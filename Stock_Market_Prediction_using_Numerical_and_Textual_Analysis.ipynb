{
  "nbformat": 4,
  "nbformat_minor": 0,
  "metadata": {
    "colab": {
      "name": "Stock Market Prediction using Numerical and Textual Analysis",
      "provenance": [],
      "collapsed_sections": [
        "WmdZBaA7U1wN",
        "byIZ3kpcC510",
        "w-giPeQdB-w3",
        "f_Xdz8kkE0-n",
        "LCa0yJzsGOeA",
        "i3tQNS8sHOoi"
      ]
    },
    "kernelspec": {
      "name": "python3",
      "display_name": "Python 3"
    },
    "language_info": {
      "name": "python"
    }
  },
  "cells": [
    {
      "cell_type": "markdown",
      "metadata": {
        "id": "OqWKZl_72rXM"
      },
      "source": [
        "#Stock Market Prediction using Numerical and Textual Analysis"
      ]
    },
    {
      "cell_type": "markdown",
      "metadata": {
        "id": "CfkT07JX3Kee"
      },
      "source": [
        "By Nikhil Jindal\n",
        "\n",
        "Datasets used \n",
        "- Historical stock prices: https://finance.yahoo.com/ \n",
        "- Textual News Headlines: https://bit.ly/36fFPI6\n",
        "\n",
        "Stock to analyze and predict: SENSEX (S&P BSE SENSEX)\n",
        "\n",
        "Date: 01-01-2001 to 30-06-2020"
      ]
    },
    {
      "cell_type": "markdown",
      "metadata": {
        "id": "LUkRp5tJ4uD2"
      },
      "source": [
        "##Importing Libraries"
      ]
    },
    {
      "cell_type": "code",
      "metadata": {
        "id": "mHGxav30ux1k"
      },
      "source": [
        "import pandas as pd\n",
        "import numpy as np\n",
        "import matplotlib.pyplot as plt  \n",
        "%matplotlib inline\n",
        "\n",
        "from datetime import datetime, timedelta,date\n",
        "\n",
        "from textblob import TextBlob\n",
        "\n",
        "import seaborn as sns\n",
        "from keras.models import Sequential\n",
        "from keras.layers import Dense, LSTM, Dropout, Dense, Activation\n",
        "\n",
        "from sklearn import preprocessing, metrics\n",
        "from sklearn.preprocessing import MinMaxScaler"
      ],
      "execution_count": 1,
      "outputs": []
    },
    {
      "cell_type": "markdown",
      "metadata": {
        "id": "dUMZykn84sJw"
      },
      "source": [
        "#Sentiment Processing and Analysis"
      ]
    },
    {
      "cell_type": "code",
      "metadata": {
        "colab": {
          "base_uri": "https://localhost:8080/",
          "height": 204
        },
        "id": "dSa6UIt3wXBr",
        "outputId": "b01327ca-f95f-44f3-c461-bc4e45c25568"
      },
      "source": [
        "#Reading Textual News Headlines Data\n",
        "df1 = pd.read_csv(\"/content/drive/MyDrive/Stock prediction/india-news-headlines.csv\")\n",
        "df1.head()"
      ],
      "execution_count": 2,
      "outputs": [
        {
          "output_type": "execute_result",
          "data": {
            "text/html": [
              "<div>\n",
              "<style scoped>\n",
              "    .dataframe tbody tr th:only-of-type {\n",
              "        vertical-align: middle;\n",
              "    }\n",
              "\n",
              "    .dataframe tbody tr th {\n",
              "        vertical-align: top;\n",
              "    }\n",
              "\n",
              "    .dataframe thead th {\n",
              "        text-align: right;\n",
              "    }\n",
              "</style>\n",
              "<table border=\"1\" class=\"dataframe\">\n",
              "  <thead>\n",
              "    <tr style=\"text-align: right;\">\n",
              "      <th></th>\n",
              "      <th>publish_date</th>\n",
              "      <th>headline_category</th>\n",
              "      <th>headline_text</th>\n",
              "    </tr>\n",
              "  </thead>\n",
              "  <tbody>\n",
              "    <tr>\n",
              "      <th>0</th>\n",
              "      <td>20010102</td>\n",
              "      <td>unknown</td>\n",
              "      <td>Status quo will not be disturbed at Ayodhya; s...</td>\n",
              "    </tr>\n",
              "    <tr>\n",
              "      <th>1</th>\n",
              "      <td>20010102</td>\n",
              "      <td>unknown</td>\n",
              "      <td>Fissures in Hurriyat over Pak visit</td>\n",
              "    </tr>\n",
              "    <tr>\n",
              "      <th>2</th>\n",
              "      <td>20010102</td>\n",
              "      <td>unknown</td>\n",
              "      <td>America's unwanted heading for India?</td>\n",
              "    </tr>\n",
              "    <tr>\n",
              "      <th>3</th>\n",
              "      <td>20010102</td>\n",
              "      <td>unknown</td>\n",
              "      <td>For bigwigs; it is destination Goa</td>\n",
              "    </tr>\n",
              "    <tr>\n",
              "      <th>4</th>\n",
              "      <td>20010102</td>\n",
              "      <td>unknown</td>\n",
              "      <td>Extra buses to clear tourist traffic</td>\n",
              "    </tr>\n",
              "  </tbody>\n",
              "</table>\n",
              "</div>"
            ],
            "text/plain": [
              "   publish_date  ...                                      headline_text\n",
              "0      20010102  ...  Status quo will not be disturbed at Ayodhya; s...\n",
              "1      20010102  ...                Fissures in Hurriyat over Pak visit\n",
              "2      20010102  ...              America's unwanted heading for India?\n",
              "3      20010102  ...                 For bigwigs; it is destination Goa\n",
              "4      20010102  ...               Extra buses to clear tourist traffic\n",
              "\n",
              "[5 rows x 3 columns]"
            ]
          },
          "metadata": {
            "tags": []
          },
          "execution_count": 2
        }
      ]
    },
    {
      "cell_type": "code",
      "metadata": {
        "colab": {
          "base_uri": "https://localhost:8080/"
        },
        "id": "lgXR32gUwiaG",
        "outputId": "d59a164f-e97e-4ab2-9734-a5c54bfe592e"
      },
      "source": [
        "#Checking the shape (num of rows and columns) of dataset\n",
        "df1.shape"
      ],
      "execution_count": 3,
      "outputs": [
        {
          "output_type": "execute_result",
          "data": {
            "text/plain": [
              "(3424067, 3)"
            ]
          },
          "metadata": {
            "tags": []
          },
          "execution_count": 3
        }
      ]
    },
    {
      "cell_type": "code",
      "metadata": {
        "colab": {
          "base_uri": "https://localhost:8080/"
        },
        "id": "FsIl7H6-6IAi",
        "outputId": "a5196436-9972-4139-ea8b-61a67f256dd2"
      },
      "source": [
        "#Extracting other info \n",
        "df1.info()"
      ],
      "execution_count": 4,
      "outputs": [
        {
          "output_type": "stream",
          "text": [
            "<class 'pandas.core.frame.DataFrame'>\n",
            "RangeIndex: 3424067 entries, 0 to 3424066\n",
            "Data columns (total 3 columns):\n",
            " #   Column             Dtype \n",
            "---  ------             ----- \n",
            " 0   publish_date       int64 \n",
            " 1   headline_category  object\n",
            " 2   headline_text      object\n",
            "dtypes: int64(1), object(2)\n",
            "memory usage: 78.4+ MB\n"
          ],
          "name": "stdout"
        }
      ]
    },
    {
      "cell_type": "code",
      "metadata": {
        "id": "4cGZ2tXz8ZFs"
      },
      "source": [
        "#Transforming \"publish_date\" attribute to proper 'date' Dtype\n",
        "df1['publish_date'] = df1['publish_date'].apply(lambda x: str(x))\n",
        "df1['publish_date'] = df1['publish_date'].apply(lambda x: date(year= int(x[0:4]), month= int(x[4:6]), day= int(x[6:8])))\n",
        "df1 = df1.sort_values(by='publish_date')"
      ],
      "execution_count": 5,
      "outputs": []
    },
    {
      "cell_type": "code",
      "metadata": {
        "id": "_TWvPuzaOztS"
      },
      "source": [
        "df1[\"publish_date\"]= pd.to_datetime(df1[\"publish_date\"])"
      ],
      "execution_count": 6,
      "outputs": []
    },
    {
      "cell_type": "code",
      "metadata": {
        "colab": {
          "base_uri": "https://localhost:8080/",
          "height": 204
        },
        "id": "wEdYqq0nCkMO",
        "outputId": "f67e01d8-515a-4ea2-adcd-bfaac49e7c54"
      },
      "source": [
        "df1.head()"
      ],
      "execution_count": 7,
      "outputs": [
        {
          "output_type": "execute_result",
          "data": {
            "text/html": [
              "<div>\n",
              "<style scoped>\n",
              "    .dataframe tbody tr th:only-of-type {\n",
              "        vertical-align: middle;\n",
              "    }\n",
              "\n",
              "    .dataframe tbody tr th {\n",
              "        vertical-align: top;\n",
              "    }\n",
              "\n",
              "    .dataframe thead th {\n",
              "        text-align: right;\n",
              "    }\n",
              "</style>\n",
              "<table border=\"1\" class=\"dataframe\">\n",
              "  <thead>\n",
              "    <tr style=\"text-align: right;\">\n",
              "      <th></th>\n",
              "      <th>publish_date</th>\n",
              "      <th>headline_category</th>\n",
              "      <th>headline_text</th>\n",
              "    </tr>\n",
              "  </thead>\n",
              "  <tbody>\n",
              "    <tr>\n",
              "      <th>0</th>\n",
              "      <td>2001-01-02</td>\n",
              "      <td>unknown</td>\n",
              "      <td>Status quo will not be disturbed at Ayodhya; s...</td>\n",
              "    </tr>\n",
              "    <tr>\n",
              "      <th>63</th>\n",
              "      <td>2001-01-02</td>\n",
              "      <td>unknown</td>\n",
              "      <td>Petition over ministers' assets dismissed</td>\n",
              "    </tr>\n",
              "    <tr>\n",
              "      <th>62</th>\n",
              "      <td>2001-01-02</td>\n",
              "      <td>unknown</td>\n",
              "      <td>Bomb hoax triggers panic in Canara Bank</td>\n",
              "    </tr>\n",
              "    <tr>\n",
              "      <th>61</th>\n",
              "      <td>2001-01-02</td>\n",
              "      <td>unknown</td>\n",
              "      <td>Consul is back from month-long leave</td>\n",
              "    </tr>\n",
              "    <tr>\n",
              "      <th>60</th>\n",
              "      <td>2001-01-02</td>\n",
              "      <td>unknown</td>\n",
              "      <td>Redemption night; amid some rock</td>\n",
              "    </tr>\n",
              "  </tbody>\n",
              "</table>\n",
              "</div>"
            ],
            "text/plain": [
              "   publish_date  ...                                      headline_text\n",
              "0    2001-01-02  ...  Status quo will not be disturbed at Ayodhya; s...\n",
              "63   2001-01-02  ...          Petition over ministers' assets dismissed\n",
              "62   2001-01-02  ...            Bomb hoax triggers panic in Canara Bank\n",
              "61   2001-01-02  ...               Consul is back from month-long leave\n",
              "60   2001-01-02  ...                   Redemption night; amid some rock\n",
              "\n",
              "[5 rows x 3 columns]"
            ]
          },
          "metadata": {
            "tags": []
          },
          "execution_count": 7
        }
      ]
    },
    {
      "cell_type": "code",
      "metadata": {
        "id": "EW3fYYYLEhUv"
      },
      "source": [
        "#Joining different news headlines of a common date into single string using 'groupby' function\n",
        "df1 = df1.groupby(['publish_date'])['headline_text'].apply(lambda x: ','.join(x)).reset_index()"
      ],
      "execution_count": 8,
      "outputs": []
    },
    {
      "cell_type": "code",
      "metadata": {
        "colab": {
          "base_uri": "https://localhost:8080/",
          "height": 204
        },
        "id": "ZedGL7fIR2P2",
        "outputId": "ac024eca-8372-4c21-86da-6842290cfb60"
      },
      "source": [
        "df1.head()"
      ],
      "execution_count": 9,
      "outputs": [
        {
          "output_type": "execute_result",
          "data": {
            "text/html": [
              "<div>\n",
              "<style scoped>\n",
              "    .dataframe tbody tr th:only-of-type {\n",
              "        vertical-align: middle;\n",
              "    }\n",
              "\n",
              "    .dataframe tbody tr th {\n",
              "        vertical-align: top;\n",
              "    }\n",
              "\n",
              "    .dataframe thead th {\n",
              "        text-align: right;\n",
              "    }\n",
              "</style>\n",
              "<table border=\"1\" class=\"dataframe\">\n",
              "  <thead>\n",
              "    <tr style=\"text-align: right;\">\n",
              "      <th></th>\n",
              "      <th>publish_date</th>\n",
              "      <th>headline_text</th>\n",
              "    </tr>\n",
              "  </thead>\n",
              "  <tbody>\n",
              "    <tr>\n",
              "      <th>0</th>\n",
              "      <td>2001-01-02</td>\n",
              "      <td>Status quo will not be disturbed at Ayodhya; s...</td>\n",
              "    </tr>\n",
              "    <tr>\n",
              "      <th>1</th>\n",
              "      <td>2001-01-03</td>\n",
              "      <td>Tumkur gets 243 borewells,It's shopping time f...</td>\n",
              "    </tr>\n",
              "    <tr>\n",
              "      <th>2</th>\n",
              "      <td>2001-01-04</td>\n",
              "      <td>Right choice is the key; says Iranian coach,Ra...</td>\n",
              "    </tr>\n",
              "    <tr>\n",
              "      <th>3</th>\n",
              "      <td>2001-01-05</td>\n",
              "      <td>Philippine soldiers arrest bombing suspects,Ch...</td>\n",
              "    </tr>\n",
              "    <tr>\n",
              "      <th>4</th>\n",
              "      <td>2001-01-06</td>\n",
              "      <td>Australia; New Zealand urged to accept Indo-Fi...</td>\n",
              "    </tr>\n",
              "  </tbody>\n",
              "</table>\n",
              "</div>"
            ],
            "text/plain": [
              "  publish_date                                      headline_text\n",
              "0   2001-01-02  Status quo will not be disturbed at Ayodhya; s...\n",
              "1   2001-01-03  Tumkur gets 243 borewells,It's shopping time f...\n",
              "2   2001-01-04  Right choice is the key; says Iranian coach,Ra...\n",
              "3   2001-01-05  Philippine soldiers arrest bombing suspects,Ch...\n",
              "4   2001-01-06  Australia; New Zealand urged to accept Indo-Fi..."
            ]
          },
          "metadata": {
            "tags": []
          },
          "execution_count": 9
        }
      ]
    },
    {
      "cell_type": "markdown",
      "metadata": {
        "id": "XBDI2cVd6kUr"
      },
      "source": [
        "You can see all the news for the date '2001-01-02' have been combined into one single string"
      ]
    },
    {
      "cell_type": "code",
      "metadata": {
        "colab": {
          "base_uri": "https://localhost:8080/",
          "height": 140
        },
        "id": "dFWrdPuTR5Tf",
        "outputId": "04d913ef-4099-437e-c1d1-125588fb6845"
      },
      "source": [
        "df1['headline_text'][0]"
      ],
      "execution_count": 10,
      "outputs": [
        {
          "output_type": "execute_result",
          "data": {
            "application/vnd.google.colaboratory.intrinsic+json": {
              "type": "string"
            },
            "text/plain": [
              "\"Status quo will not be disturbed at Ayodhya; says Vajpayee,Petition over ministers' assets dismissed,Bomb hoax triggers panic in Canara Bank,Consul is back from month-long leave,Redemption night; amid some rock,The best music of the year,A noisy effort to spruce up Commercial Street,Home is where the holistic science is,Promises to keep,He beat polio; but a truck driver's is no life,Fashion in the future,HAL approached for super jumbo project,Mafia calls the shots in Gandhinagar too,Moves afoot to evict squatters in Urban dist,Park turns temple compound as residents watch,This official has sued the briber,State may take AP to court over Krishna,America's unwanted heading for India?,BJP jumps into rail track conversion issue,Nagathihalli returns with Preethiya Hudugi,Hoshangabad farmers have enough water,Destroying myths and doubts on sexuality,More engg colleges if needed in state: Govt,Raju Chacha,VIPs suffer as power supply is stopped to govt guest houses,Cactus which made it to Guinness is dying,Lingambudhi will be turned into bird sanctuary,Dr Patwardhan to be felicitated,BJP to block traffic statewide on Jan 6,Bickering cost Dal(S) seats; admits Gowda,Weekly editor resorts to hunger strike,Planning Dept seeks Rs 350 crore more,Akki-Alur and Ranebennur peaceful,Murder spoils 2001 party in Dharwad,Making education a people's movement,Snags delay digital maps of city,Move to stop freedom fighters' pension flayed,Record power generation at RTPS,Awareness rally on AIDS today,Meet held on cashew crop forecasting,Auto driver's murder: 4 held,Now a website on a seer,Jaitley firm on legal reforms,Come to Nandi Hills...and you can fly,NCW to focus on violence against women,Hoshangabad farmers have enough water,Jaitley firm on legal reforms,BBC's reality TV will focus on AIIMS,NCW to focus on violence against women,Text of the Prime Minister's article,PM's tacit message: Put Ram tample on hold,BBC's reality TV will focus on AIIMS,India; Pak exchange lists of N-plants,BJP jumps into rail track conversion issue,Parivar dismisses PM's warning,Move to stop freedom fighters' pension flayed,IT will become compulsory in schools,Focus shifts to teaching of Hindi,Dilute the power of transfers; says Riberio,Extra buses to clear tourist traffic,For bigwigs; it is destination Goa,America's unwanted heading for India?,Fissures in Hurriyat over Pak visit,Gilani claims he applied for passport 2 years ago,America's unwanted heading for India?,Will Qureshi's return really help the govt?,This official has sued the briber,State may take AP to court over Krishna,PM's tacit message: Put Ram tample on hold,Will Qureshi's return really help the govt?,India; Pak exchange lists of N-plants,Parivar dismisses PM's warning,Gilani claims he applied for passport 2 years ago,Move to stop freedom fighters' pension flayed,IT will become compulsory in schools,Focus shifts to teaching of Hindi,Text of the Prime Minister's article,Extra buses to clear tourist traffic,Dilute the power of transfers; says Riberio,Moves afoot to evict squatters in Urban dist,Mafia calls the shots in Gandhinagar too,Status quo will not be disturbed at Ayodhya; says Vajpayee,Park turns temple compound as residents watch,America's unwanted heading for India?,For bigwigs; it is destination Goa,Fissures in Hurriyat over Pak visit\""
            ]
          },
          "metadata": {
            "tags": []
          },
          "execution_count": 10
        }
      ]
    },
    {
      "cell_type": "markdown",
      "metadata": {
        "id": "YBfZJ4fN7UNB"
      },
      "source": [
        "Now I will check the polarity/sentiment score of each 'headline_text' and insert it to a new column called 'sentiment' in the dataframe.\n",
        "\n",
        "I will be using \"TextBlob\" library for the same purpose"
      ]
    },
    {
      "cell_type": "code",
      "metadata": {
        "colab": {
          "base_uri": "https://localhost:8080/"
        },
        "id": "2wHVmEcvST2B",
        "outputId": "40409322-52b7-43e7-f0fd-a64d4d8135fe"
      },
      "source": [
        "#Here's a demo of \"TextBlob\" library\n",
        "sentence = '''The platform provides universal access to the world's best education, partnering with top universities and organizations to offer courses online.'''\n",
        "\n",
        "# Creating a textblob object and assigning the sentiment property\n",
        "analysis = TextBlob(sentence).polarity\n",
        "print(analysis)"
      ],
      "execution_count": 11,
      "outputs": [
        {
          "output_type": "stream",
          "text": [
            "0.5\n"
          ],
          "name": "stdout"
        }
      ]
    },
    {
      "cell_type": "code",
      "metadata": {
        "id": "NyPURWRzUh_u"
      },
      "source": [
        "#Using apply function to implement TextBlob function\n",
        "df1['sentiment'] = df1['headline_text'].apply(lambda x: TextBlob(x).polarity )"
      ],
      "execution_count": 12,
      "outputs": []
    },
    {
      "cell_type": "code",
      "metadata": {
        "id": "C9LwQ-PXMr6y"
      },
      "source": [
        "#Renaming the 'publish_date' attribute to 'date'\n",
        "df1 = df1.rename(columns={'publish_date': 'Date'})"
      ],
      "execution_count": 13,
      "outputs": []
    },
    {
      "cell_type": "code",
      "metadata": {
        "colab": {
          "base_uri": "https://localhost:8080/",
          "height": 359
        },
        "id": "SdfbUTyIVCkB",
        "outputId": "93adcbca-9218-421d-ca3a-439fe53164d6"
      },
      "source": [
        "df1.head(10)"
      ],
      "execution_count": 14,
      "outputs": [
        {
          "output_type": "execute_result",
          "data": {
            "text/html": [
              "<div>\n",
              "<style scoped>\n",
              "    .dataframe tbody tr th:only-of-type {\n",
              "        vertical-align: middle;\n",
              "    }\n",
              "\n",
              "    .dataframe tbody tr th {\n",
              "        vertical-align: top;\n",
              "    }\n",
              "\n",
              "    .dataframe thead th {\n",
              "        text-align: right;\n",
              "    }\n",
              "</style>\n",
              "<table border=\"1\" class=\"dataframe\">\n",
              "  <thead>\n",
              "    <tr style=\"text-align: right;\">\n",
              "      <th></th>\n",
              "      <th>Date</th>\n",
              "      <th>headline_text</th>\n",
              "      <th>sentiment</th>\n",
              "    </tr>\n",
              "  </thead>\n",
              "  <tbody>\n",
              "    <tr>\n",
              "      <th>0</th>\n",
              "      <td>2001-01-02</td>\n",
              "      <td>Status quo will not be disturbed at Ayodhya; s...</td>\n",
              "      <td>0.113725</td>\n",
              "    </tr>\n",
              "    <tr>\n",
              "      <th>1</th>\n",
              "      <td>2001-01-03</td>\n",
              "      <td>Tumkur gets 243 borewells,It's shopping time f...</td>\n",
              "      <td>0.141667</td>\n",
              "    </tr>\n",
              "    <tr>\n",
              "      <th>2</th>\n",
              "      <td>2001-01-04</td>\n",
              "      <td>Right choice is the key; says Iranian coach,Ra...</td>\n",
              "      <td>0.136633</td>\n",
              "    </tr>\n",
              "    <tr>\n",
              "      <th>3</th>\n",
              "      <td>2001-01-05</td>\n",
              "      <td>Philippine soldiers arrest bombing suspects,Ch...</td>\n",
              "      <td>0.250480</td>\n",
              "    </tr>\n",
              "    <tr>\n",
              "      <th>4</th>\n",
              "      <td>2001-01-06</td>\n",
              "      <td>Australia; New Zealand urged to accept Indo-Fi...</td>\n",
              "      <td>0.229545</td>\n",
              "    </tr>\n",
              "    <tr>\n",
              "      <th>5</th>\n",
              "      <td>2001-01-07</td>\n",
              "      <td>Aamir Khan: 'Lagaan' ko zabaan do,Need for far...</td>\n",
              "      <td>-0.037689</td>\n",
              "    </tr>\n",
              "    <tr>\n",
              "      <th>6</th>\n",
              "      <td>2001-01-08</td>\n",
              "      <td>Paramour; accomplice get life term for killing...</td>\n",
              "      <td>-0.017149</td>\n",
              "    </tr>\n",
              "    <tr>\n",
              "      <th>7</th>\n",
              "      <td>2001-01-09</td>\n",
              "      <td>50 handicaps to get artificial limbs,Hefty pho...</td>\n",
              "      <td>-0.059579</td>\n",
              "    </tr>\n",
              "    <tr>\n",
              "      <th>8</th>\n",
              "      <td>2001-01-10</td>\n",
              "      <td>State police collapses under pressure,Court de...</td>\n",
              "      <td>0.000000</td>\n",
              "    </tr>\n",
              "    <tr>\n",
              "      <th>9</th>\n",
              "      <td>2001-01-23</td>\n",
              "      <td>Way2Wealth positions as one-stop financial sho...</td>\n",
              "      <td>0.041335</td>\n",
              "    </tr>\n",
              "  </tbody>\n",
              "</table>\n",
              "</div>"
            ],
            "text/plain": [
              "        Date                                      headline_text  sentiment\n",
              "0 2001-01-02  Status quo will not be disturbed at Ayodhya; s...   0.113725\n",
              "1 2001-01-03  Tumkur gets 243 borewells,It's shopping time f...   0.141667\n",
              "2 2001-01-04  Right choice is the key; says Iranian coach,Ra...   0.136633\n",
              "3 2001-01-05  Philippine soldiers arrest bombing suspects,Ch...   0.250480\n",
              "4 2001-01-06  Australia; New Zealand urged to accept Indo-Fi...   0.229545\n",
              "5 2001-01-07  Aamir Khan: 'Lagaan' ko zabaan do,Need for far...  -0.037689\n",
              "6 2001-01-08  Paramour; accomplice get life term for killing...  -0.017149\n",
              "7 2001-01-09  50 handicaps to get artificial limbs,Hefty pho...  -0.059579\n",
              "8 2001-01-10  State police collapses under pressure,Court de...   0.000000\n",
              "9 2001-01-23  Way2Wealth positions as one-stop financial sho...   0.041335"
            ]
          },
          "metadata": {
            "tags": []
          },
          "execution_count": 14
        }
      ]
    },
    {
      "cell_type": "code",
      "metadata": {
        "colab": {
          "base_uri": "https://localhost:8080/"
        },
        "id": "BG52zZLcFCQ_",
        "outputId": "04d9a489-b3ef-4ee8-eaab-f7defcd2d9b0"
      },
      "source": [
        "df1.info()"
      ],
      "execution_count": 15,
      "outputs": [
        {
          "output_type": "stream",
          "text": [
            "<class 'pandas.core.frame.DataFrame'>\n",
            "RangeIndex: 7262 entries, 0 to 7261\n",
            "Data columns (total 3 columns):\n",
            " #   Column         Non-Null Count  Dtype         \n",
            "---  ------         --------------  -----         \n",
            " 0   Date           7262 non-null   datetime64[ns]\n",
            " 1   headline_text  7262 non-null   object        \n",
            " 2   sentiment      7262 non-null   float64       \n",
            "dtypes: datetime64[ns](1), float64(1), object(1)\n",
            "memory usage: 170.3+ KB\n"
          ],
          "name": "stdout"
        }
      ]
    },
    {
      "cell_type": "markdown",
      "metadata": {
        "id": "lBdkhr218ohq"
      },
      "source": [
        "#Stock Data Processing and Analysis"
      ]
    },
    {
      "cell_type": "code",
      "metadata": {
        "id": "X8LDleCWVjAN",
        "colab": {
          "base_uri": "https://localhost:8080/",
          "height": 204
        },
        "outputId": "76c08e4b-480f-44d6-ecee-d6ba691b4289"
      },
      "source": [
        "#Reading historical stock data\n",
        "df2 = pd.read_csv('/content/drive/MyDrive/Stock prediction/AAPL.csv')\n",
        "df2.head()"
      ],
      "execution_count": 16,
      "outputs": [
        {
          "output_type": "execute_result",
          "data": {
            "text/html": [
              "<div>\n",
              "<style scoped>\n",
              "    .dataframe tbody tr th:only-of-type {\n",
              "        vertical-align: middle;\n",
              "    }\n",
              "\n",
              "    .dataframe tbody tr th {\n",
              "        vertical-align: top;\n",
              "    }\n",
              "\n",
              "    .dataframe thead th {\n",
              "        text-align: right;\n",
              "    }\n",
              "</style>\n",
              "<table border=\"1\" class=\"dataframe\">\n",
              "  <thead>\n",
              "    <tr style=\"text-align: right;\">\n",
              "      <th></th>\n",
              "      <th>Date</th>\n",
              "      <th>Open</th>\n",
              "      <th>High</th>\n",
              "      <th>Low</th>\n",
              "      <th>Close</th>\n",
              "      <th>Adj Close</th>\n",
              "      <th>Volume</th>\n",
              "    </tr>\n",
              "  </thead>\n",
              "  <tbody>\n",
              "    <tr>\n",
              "      <th>0</th>\n",
              "      <td>2001-01-02</td>\n",
              "      <td>0.265625</td>\n",
              "      <td>0.272321</td>\n",
              "      <td>0.260045</td>\n",
              "      <td>0.265625</td>\n",
              "      <td>0.229537</td>\n",
              "      <td>452312000</td>\n",
              "    </tr>\n",
              "    <tr>\n",
              "      <th>1</th>\n",
              "      <td>2001-01-03</td>\n",
              "      <td>0.258929</td>\n",
              "      <td>0.297991</td>\n",
              "      <td>0.257813</td>\n",
              "      <td>0.292411</td>\n",
              "      <td>0.252684</td>\n",
              "      <td>817073600</td>\n",
              "    </tr>\n",
              "    <tr>\n",
              "      <th>2</th>\n",
              "      <td>2001-01-04</td>\n",
              "      <td>0.323940</td>\n",
              "      <td>0.330357</td>\n",
              "      <td>0.300223</td>\n",
              "      <td>0.304688</td>\n",
              "      <td>0.263292</td>\n",
              "      <td>739396000</td>\n",
              "    </tr>\n",
              "    <tr>\n",
              "      <th>3</th>\n",
              "      <td>2001-01-05</td>\n",
              "      <td>0.302455</td>\n",
              "      <td>0.310268</td>\n",
              "      <td>0.286830</td>\n",
              "      <td>0.292411</td>\n",
              "      <td>0.252684</td>\n",
              "      <td>412356000</td>\n",
              "    </tr>\n",
              "    <tr>\n",
              "      <th>4</th>\n",
              "      <td>2001-01-08</td>\n",
              "      <td>0.302455</td>\n",
              "      <td>0.303292</td>\n",
              "      <td>0.284598</td>\n",
              "      <td>0.295759</td>\n",
              "      <td>0.255577</td>\n",
              "      <td>373699200</td>\n",
              "    </tr>\n",
              "  </tbody>\n",
              "</table>\n",
              "</div>"
            ],
            "text/plain": [
              "         Date      Open      High       Low     Close  Adj Close     Volume\n",
              "0  2001-01-02  0.265625  0.272321  0.260045  0.265625   0.229537  452312000\n",
              "1  2001-01-03  0.258929  0.297991  0.257813  0.292411   0.252684  817073600\n",
              "2  2001-01-04  0.323940  0.330357  0.300223  0.304688   0.263292  739396000\n",
              "3  2001-01-05  0.302455  0.310268  0.286830  0.292411   0.252684  412356000\n",
              "4  2001-01-08  0.302455  0.303292  0.284598  0.295759   0.255577  373699200"
            ]
          },
          "metadata": {
            "tags": []
          },
          "execution_count": 16
        }
      ]
    },
    {
      "cell_type": "code",
      "metadata": {
        "colab": {
          "base_uri": "https://localhost:8080/"
        },
        "id": "Hwisk0zKD6KG",
        "outputId": "7f6b0b9c-d6bb-4f0c-9289-9bfa0430208d"
      },
      "source": [
        "#Checking other info\n",
        "df2.info()"
      ],
      "execution_count": 17,
      "outputs": [
        {
          "output_type": "stream",
          "text": [
            "<class 'pandas.core.frame.DataFrame'>\n",
            "RangeIndex: 4904 entries, 0 to 4903\n",
            "Data columns (total 7 columns):\n",
            " #   Column     Non-Null Count  Dtype  \n",
            "---  ------     --------------  -----  \n",
            " 0   Date       4904 non-null   object \n",
            " 1   Open       4904 non-null   float64\n",
            " 2   High       4904 non-null   float64\n",
            " 3   Low        4904 non-null   float64\n",
            " 4   Close      4904 non-null   float64\n",
            " 5   Adj Close  4904 non-null   float64\n",
            " 6   Volume     4904 non-null   int64  \n",
            "dtypes: float64(5), int64(1), object(1)\n",
            "memory usage: 268.3+ KB\n"
          ],
          "name": "stdout"
        }
      ]
    },
    {
      "cell_type": "code",
      "metadata": {
        "id": "EDWk2W92D_UA"
      },
      "source": [
        "#Converting \"Date\" Dtype from object to datetime\n",
        "df2[\"Date\"]= pd.to_datetime(df2[\"Date\"])"
      ],
      "execution_count": 18,
      "outputs": []
    },
    {
      "cell_type": "code",
      "metadata": {
        "colab": {
          "base_uri": "https://localhost:8080/"
        },
        "id": "4jS5N3vgEWX5",
        "outputId": "532867f2-ef24-4529-fa2b-4f670a5a7124"
      },
      "source": [
        "df2.info()"
      ],
      "execution_count": 19,
      "outputs": [
        {
          "output_type": "stream",
          "text": [
            "<class 'pandas.core.frame.DataFrame'>\n",
            "RangeIndex: 4904 entries, 0 to 4903\n",
            "Data columns (total 7 columns):\n",
            " #   Column     Non-Null Count  Dtype         \n",
            "---  ------     --------------  -----         \n",
            " 0   Date       4904 non-null   datetime64[ns]\n",
            " 1   Open       4904 non-null   float64       \n",
            " 2   High       4904 non-null   float64       \n",
            " 3   Low        4904 non-null   float64       \n",
            " 4   Close      4904 non-null   float64       \n",
            " 5   Adj Close  4904 non-null   float64       \n",
            " 6   Volume     4904 non-null   int64         \n",
            "dtypes: datetime64[ns](1), float64(5), int64(1)\n",
            "memory usage: 268.3 KB\n"
          ],
          "name": "stdout"
        }
      ]
    },
    {
      "cell_type": "code",
      "metadata": {
        "colab": {
          "base_uri": "https://localhost:8080/",
          "height": 204
        },
        "id": "BKtuqgVmEnhS",
        "outputId": "3d2f8783-6a2f-4611-b5a1-62b84e384720"
      },
      "source": [
        "#Sorting values by \"Date\"\n",
        "df2 = df2.sort_values(by='Date')\n",
        "df2.head()"
      ],
      "execution_count": 20,
      "outputs": [
        {
          "output_type": "execute_result",
          "data": {
            "text/html": [
              "<div>\n",
              "<style scoped>\n",
              "    .dataframe tbody tr th:only-of-type {\n",
              "        vertical-align: middle;\n",
              "    }\n",
              "\n",
              "    .dataframe tbody tr th {\n",
              "        vertical-align: top;\n",
              "    }\n",
              "\n",
              "    .dataframe thead th {\n",
              "        text-align: right;\n",
              "    }\n",
              "</style>\n",
              "<table border=\"1\" class=\"dataframe\">\n",
              "  <thead>\n",
              "    <tr style=\"text-align: right;\">\n",
              "      <th></th>\n",
              "      <th>Date</th>\n",
              "      <th>Open</th>\n",
              "      <th>High</th>\n",
              "      <th>Low</th>\n",
              "      <th>Close</th>\n",
              "      <th>Adj Close</th>\n",
              "      <th>Volume</th>\n",
              "    </tr>\n",
              "  </thead>\n",
              "  <tbody>\n",
              "    <tr>\n",
              "      <th>0</th>\n",
              "      <td>2001-01-02</td>\n",
              "      <td>0.265625</td>\n",
              "      <td>0.272321</td>\n",
              "      <td>0.260045</td>\n",
              "      <td>0.265625</td>\n",
              "      <td>0.229537</td>\n",
              "      <td>452312000</td>\n",
              "    </tr>\n",
              "    <tr>\n",
              "      <th>1</th>\n",
              "      <td>2001-01-03</td>\n",
              "      <td>0.258929</td>\n",
              "      <td>0.297991</td>\n",
              "      <td>0.257813</td>\n",
              "      <td>0.292411</td>\n",
              "      <td>0.252684</td>\n",
              "      <td>817073600</td>\n",
              "    </tr>\n",
              "    <tr>\n",
              "      <th>2</th>\n",
              "      <td>2001-01-04</td>\n",
              "      <td>0.323940</td>\n",
              "      <td>0.330357</td>\n",
              "      <td>0.300223</td>\n",
              "      <td>0.304688</td>\n",
              "      <td>0.263292</td>\n",
              "      <td>739396000</td>\n",
              "    </tr>\n",
              "    <tr>\n",
              "      <th>3</th>\n",
              "      <td>2001-01-05</td>\n",
              "      <td>0.302455</td>\n",
              "      <td>0.310268</td>\n",
              "      <td>0.286830</td>\n",
              "      <td>0.292411</td>\n",
              "      <td>0.252684</td>\n",
              "      <td>412356000</td>\n",
              "    </tr>\n",
              "    <tr>\n",
              "      <th>4</th>\n",
              "      <td>2001-01-08</td>\n",
              "      <td>0.302455</td>\n",
              "      <td>0.303292</td>\n",
              "      <td>0.284598</td>\n",
              "      <td>0.295759</td>\n",
              "      <td>0.255577</td>\n",
              "      <td>373699200</td>\n",
              "    </tr>\n",
              "  </tbody>\n",
              "</table>\n",
              "</div>"
            ],
            "text/plain": [
              "        Date      Open      High       Low     Close  Adj Close     Volume\n",
              "0 2001-01-02  0.265625  0.272321  0.260045  0.265625   0.229537  452312000\n",
              "1 2001-01-03  0.258929  0.297991  0.257813  0.292411   0.252684  817073600\n",
              "2 2001-01-04  0.323940  0.330357  0.300223  0.304688   0.263292  739396000\n",
              "3 2001-01-05  0.302455  0.310268  0.286830  0.292411   0.252684  412356000\n",
              "4 2001-01-08  0.302455  0.303292  0.284598  0.295759   0.255577  373699200"
            ]
          },
          "metadata": {
            "tags": []
          },
          "execution_count": 20
        }
      ]
    },
    {
      "cell_type": "markdown",
      "metadata": {
        "id": "YAUo2_Qe9SDO"
      },
      "source": [
        "#Merging both the dataframes (Textual and Stock)"
      ]
    },
    {
      "cell_type": "code",
      "metadata": {
        "id": "JyLZTtm-FRri"
      },
      "source": [
        "#Performing left join on \"Date\" attribute\n",
        "data = pd.merge(df2, df1, how='left', on=['Date'])"
      ],
      "execution_count": 21,
      "outputs": []
    },
    {
      "cell_type": "code",
      "metadata": {
        "colab": {
          "base_uri": "https://localhost:8080/",
          "height": 493
        },
        "id": "WhuiqOjjNaBV",
        "outputId": "df19a913-b2c4-4bfb-84d5-23f89bae21e0"
      },
      "source": [
        "print(data.info())\n",
        "data.head()"
      ],
      "execution_count": 22,
      "outputs": [
        {
          "output_type": "stream",
          "text": [
            "<class 'pandas.core.frame.DataFrame'>\n",
            "Int64Index: 4904 entries, 0 to 4903\n",
            "Data columns (total 9 columns):\n",
            " #   Column         Non-Null Count  Dtype         \n",
            "---  ------         --------------  -----         \n",
            " 0   Date           4904 non-null   datetime64[ns]\n",
            " 1   Open           4904 non-null   float64       \n",
            " 2   High           4904 non-null   float64       \n",
            " 3   Low            4904 non-null   float64       \n",
            " 4   Close          4904 non-null   float64       \n",
            " 5   Adj Close      4904 non-null   float64       \n",
            " 6   Volume         4904 non-null   int64         \n",
            " 7   headline_text  4876 non-null   object        \n",
            " 8   sentiment      4876 non-null   float64       \n",
            "dtypes: datetime64[ns](1), float64(6), int64(1), object(1)\n",
            "memory usage: 383.1+ KB\n",
            "None\n"
          ],
          "name": "stdout"
        },
        {
          "output_type": "execute_result",
          "data": {
            "text/html": [
              "<div>\n",
              "<style scoped>\n",
              "    .dataframe tbody tr th:only-of-type {\n",
              "        vertical-align: middle;\n",
              "    }\n",
              "\n",
              "    .dataframe tbody tr th {\n",
              "        vertical-align: top;\n",
              "    }\n",
              "\n",
              "    .dataframe thead th {\n",
              "        text-align: right;\n",
              "    }\n",
              "</style>\n",
              "<table border=\"1\" class=\"dataframe\">\n",
              "  <thead>\n",
              "    <tr style=\"text-align: right;\">\n",
              "      <th></th>\n",
              "      <th>Date</th>\n",
              "      <th>Open</th>\n",
              "      <th>High</th>\n",
              "      <th>Low</th>\n",
              "      <th>Close</th>\n",
              "      <th>Adj Close</th>\n",
              "      <th>Volume</th>\n",
              "      <th>headline_text</th>\n",
              "      <th>sentiment</th>\n",
              "    </tr>\n",
              "  </thead>\n",
              "  <tbody>\n",
              "    <tr>\n",
              "      <th>0</th>\n",
              "      <td>2001-01-02</td>\n",
              "      <td>0.265625</td>\n",
              "      <td>0.272321</td>\n",
              "      <td>0.260045</td>\n",
              "      <td>0.265625</td>\n",
              "      <td>0.229537</td>\n",
              "      <td>452312000</td>\n",
              "      <td>Status quo will not be disturbed at Ayodhya; s...</td>\n",
              "      <td>0.113725</td>\n",
              "    </tr>\n",
              "    <tr>\n",
              "      <th>1</th>\n",
              "      <td>2001-01-03</td>\n",
              "      <td>0.258929</td>\n",
              "      <td>0.297991</td>\n",
              "      <td>0.257813</td>\n",
              "      <td>0.292411</td>\n",
              "      <td>0.252684</td>\n",
              "      <td>817073600</td>\n",
              "      <td>Tumkur gets 243 borewells,It's shopping time f...</td>\n",
              "      <td>0.141667</td>\n",
              "    </tr>\n",
              "    <tr>\n",
              "      <th>2</th>\n",
              "      <td>2001-01-04</td>\n",
              "      <td>0.323940</td>\n",
              "      <td>0.330357</td>\n",
              "      <td>0.300223</td>\n",
              "      <td>0.304688</td>\n",
              "      <td>0.263292</td>\n",
              "      <td>739396000</td>\n",
              "      <td>Right choice is the key; says Iranian coach,Ra...</td>\n",
              "      <td>0.136633</td>\n",
              "    </tr>\n",
              "    <tr>\n",
              "      <th>3</th>\n",
              "      <td>2001-01-05</td>\n",
              "      <td>0.302455</td>\n",
              "      <td>0.310268</td>\n",
              "      <td>0.286830</td>\n",
              "      <td>0.292411</td>\n",
              "      <td>0.252684</td>\n",
              "      <td>412356000</td>\n",
              "      <td>Philippine soldiers arrest bombing suspects,Ch...</td>\n",
              "      <td>0.250480</td>\n",
              "    </tr>\n",
              "    <tr>\n",
              "      <th>4</th>\n",
              "      <td>2001-01-08</td>\n",
              "      <td>0.302455</td>\n",
              "      <td>0.303292</td>\n",
              "      <td>0.284598</td>\n",
              "      <td>0.295759</td>\n",
              "      <td>0.255577</td>\n",
              "      <td>373699200</td>\n",
              "      <td>Paramour; accomplice get life term for killing...</td>\n",
              "      <td>-0.017149</td>\n",
              "    </tr>\n",
              "  </tbody>\n",
              "</table>\n",
              "</div>"
            ],
            "text/plain": [
              "        Date  ...  sentiment\n",
              "0 2001-01-02  ...   0.113725\n",
              "1 2001-01-03  ...   0.141667\n",
              "2 2001-01-04  ...   0.136633\n",
              "3 2001-01-05  ...   0.250480\n",
              "4 2001-01-08  ...  -0.017149\n",
              "\n",
              "[5 rows x 9 columns]"
            ]
          },
          "metadata": {
            "tags": []
          },
          "execution_count": 22
        }
      ]
    },
    {
      "cell_type": "code",
      "metadata": {
        "id": "TiEbPRJtOZx-"
      },
      "source": [
        "#Saving the combined dataset on drive\n",
        "data.to_csv('/content/drive/MyDrive/Stock prediction/data.csv',index=False)"
      ],
      "execution_count": 23,
      "outputs": []
    },
    {
      "cell_type": "markdown",
      "metadata": {
        "id": "Ysfkme5SQ2zN"
      },
      "source": [
        "#Hybrid"
      ]
    },
    {
      "cell_type": "code",
      "metadata": {
        "id": "jFgxuJiEQvj_",
        "colab": {
          "base_uri": "https://localhost:8080/",
          "height": 204
        },
        "outputId": "67611b35-67f0-4cc6-8510-eb3d9a74171b"
      },
      "source": [
        "#Reading hybrid dataset\n",
        "df = pd.read_csv('/content/drive/MyDrive/Stock prediction/data.csv')\n",
        "df.head()"
      ],
      "execution_count": 24,
      "outputs": [
        {
          "output_type": "execute_result",
          "data": {
            "text/html": [
              "<div>\n",
              "<style scoped>\n",
              "    .dataframe tbody tr th:only-of-type {\n",
              "        vertical-align: middle;\n",
              "    }\n",
              "\n",
              "    .dataframe tbody tr th {\n",
              "        vertical-align: top;\n",
              "    }\n",
              "\n",
              "    .dataframe thead th {\n",
              "        text-align: right;\n",
              "    }\n",
              "</style>\n",
              "<table border=\"1\" class=\"dataframe\">\n",
              "  <thead>\n",
              "    <tr style=\"text-align: right;\">\n",
              "      <th></th>\n",
              "      <th>Date</th>\n",
              "      <th>Open</th>\n",
              "      <th>High</th>\n",
              "      <th>Low</th>\n",
              "      <th>Close</th>\n",
              "      <th>Adj Close</th>\n",
              "      <th>Volume</th>\n",
              "      <th>headline_text</th>\n",
              "      <th>sentiment</th>\n",
              "    </tr>\n",
              "  </thead>\n",
              "  <tbody>\n",
              "    <tr>\n",
              "      <th>0</th>\n",
              "      <td>2001-01-02</td>\n",
              "      <td>0.265625</td>\n",
              "      <td>0.272321</td>\n",
              "      <td>0.260045</td>\n",
              "      <td>0.265625</td>\n",
              "      <td>0.229537</td>\n",
              "      <td>452312000</td>\n",
              "      <td>Status quo will not be disturbed at Ayodhya; s...</td>\n",
              "      <td>0.113725</td>\n",
              "    </tr>\n",
              "    <tr>\n",
              "      <th>1</th>\n",
              "      <td>2001-01-03</td>\n",
              "      <td>0.258929</td>\n",
              "      <td>0.297991</td>\n",
              "      <td>0.257813</td>\n",
              "      <td>0.292411</td>\n",
              "      <td>0.252684</td>\n",
              "      <td>817073600</td>\n",
              "      <td>Tumkur gets 243 borewells,It's shopping time f...</td>\n",
              "      <td>0.141667</td>\n",
              "    </tr>\n",
              "    <tr>\n",
              "      <th>2</th>\n",
              "      <td>2001-01-04</td>\n",
              "      <td>0.323940</td>\n",
              "      <td>0.330357</td>\n",
              "      <td>0.300223</td>\n",
              "      <td>0.304688</td>\n",
              "      <td>0.263292</td>\n",
              "      <td>739396000</td>\n",
              "      <td>Right choice is the key; says Iranian coach,Ra...</td>\n",
              "      <td>0.136633</td>\n",
              "    </tr>\n",
              "    <tr>\n",
              "      <th>3</th>\n",
              "      <td>2001-01-05</td>\n",
              "      <td>0.302455</td>\n",
              "      <td>0.310268</td>\n",
              "      <td>0.286830</td>\n",
              "      <td>0.292411</td>\n",
              "      <td>0.252684</td>\n",
              "      <td>412356000</td>\n",
              "      <td>Philippine soldiers arrest bombing suspects,Ch...</td>\n",
              "      <td>0.250480</td>\n",
              "    </tr>\n",
              "    <tr>\n",
              "      <th>4</th>\n",
              "      <td>2001-01-08</td>\n",
              "      <td>0.302455</td>\n",
              "      <td>0.303292</td>\n",
              "      <td>0.284598</td>\n",
              "      <td>0.295759</td>\n",
              "      <td>0.255577</td>\n",
              "      <td>373699200</td>\n",
              "      <td>Paramour; accomplice get life term for killing...</td>\n",
              "      <td>-0.017149</td>\n",
              "    </tr>\n",
              "  </tbody>\n",
              "</table>\n",
              "</div>"
            ],
            "text/plain": [
              "         Date  ...  sentiment\n",
              "0  2001-01-02  ...   0.113725\n",
              "1  2001-01-03  ...   0.141667\n",
              "2  2001-01-04  ...   0.136633\n",
              "3  2001-01-05  ...   0.250480\n",
              "4  2001-01-08  ...  -0.017149\n",
              "\n",
              "[5 rows x 9 columns]"
            ]
          },
          "metadata": {
            "tags": []
          },
          "execution_count": 24
        }
      ]
    },
    {
      "cell_type": "code",
      "metadata": {
        "id": "hRaJKSySQ9v6"
      },
      "source": [
        "#Dropping \"headline_text\" attribute (it is not required for modeling)\n",
        "df.drop('headline_text', inplace=True, axis=1)"
      ],
      "execution_count": 25,
      "outputs": []
    },
    {
      "cell_type": "code",
      "metadata": {
        "id": "QRY-swiKRlfL"
      },
      "source": [
        "#Dropping null values\n",
        "df = df.dropna(how ='all')"
      ],
      "execution_count": 26,
      "outputs": []
    },
    {
      "cell_type": "code",
      "metadata": {
        "colab": {
          "base_uri": "https://localhost:8080/"
        },
        "id": "6zwhLMaHXO89",
        "outputId": "aa26d7d0-9ac8-49d1-e92d-65573a04c869"
      },
      "source": [
        "df.info()"
      ],
      "execution_count": 27,
      "outputs": [
        {
          "output_type": "stream",
          "text": [
            "<class 'pandas.core.frame.DataFrame'>\n",
            "Int64Index: 4904 entries, 0 to 4903\n",
            "Data columns (total 8 columns):\n",
            " #   Column     Non-Null Count  Dtype  \n",
            "---  ------     --------------  -----  \n",
            " 0   Date       4904 non-null   object \n",
            " 1   Open       4904 non-null   float64\n",
            " 2   High       4904 non-null   float64\n",
            " 3   Low        4904 non-null   float64\n",
            " 4   Close      4904 non-null   float64\n",
            " 5   Adj Close  4904 non-null   float64\n",
            " 6   Volume     4904 non-null   int64  \n",
            " 7   sentiment  4876 non-null   float64\n",
            "dtypes: float64(6), int64(1), object(1)\n",
            "memory usage: 344.8+ KB\n"
          ],
          "name": "stdout"
        }
      ]
    },
    {
      "cell_type": "code",
      "metadata": {
        "colab": {
          "base_uri": "https://localhost:8080/"
        },
        "id": "LcPe5TfXYFhq",
        "outputId": "49d6db57-c34d-4c2d-88f3-8725ecf8df84"
      },
      "source": [
        "#dropping rows where 'sentiment' has null values \n",
        "df = df.dropna(axis=0, subset=['sentiment'])\n",
        "df.info()"
      ],
      "execution_count": 28,
      "outputs": [
        {
          "output_type": "stream",
          "text": [
            "<class 'pandas.core.frame.DataFrame'>\n",
            "Int64Index: 4876 entries, 0 to 4903\n",
            "Data columns (total 8 columns):\n",
            " #   Column     Non-Null Count  Dtype  \n",
            "---  ------     --------------  -----  \n",
            " 0   Date       4876 non-null   object \n",
            " 1   Open       4876 non-null   float64\n",
            " 2   High       4876 non-null   float64\n",
            " 3   Low        4876 non-null   float64\n",
            " 4   Close      4876 non-null   float64\n",
            " 5   Adj Close  4876 non-null   float64\n",
            " 6   Volume     4876 non-null   int64  \n",
            " 7   sentiment  4876 non-null   float64\n",
            "dtypes: float64(6), int64(1), object(1)\n",
            "memory usage: 342.8+ KB\n"
          ],
          "name": "stdout"
        }
      ]
    },
    {
      "cell_type": "code",
      "metadata": {
        "colab": {
          "base_uri": "https://localhost:8080/",
          "height": 419
        },
        "id": "URtOESsLRvuy",
        "outputId": "4eae5ced-aede-42a1-f9d5-749975e5aebc"
      },
      "source": [
        "df"
      ],
      "execution_count": 29,
      "outputs": [
        {
          "output_type": "execute_result",
          "data": {
            "text/html": [
              "<div>\n",
              "<style scoped>\n",
              "    .dataframe tbody tr th:only-of-type {\n",
              "        vertical-align: middle;\n",
              "    }\n",
              "\n",
              "    .dataframe tbody tr th {\n",
              "        vertical-align: top;\n",
              "    }\n",
              "\n",
              "    .dataframe thead th {\n",
              "        text-align: right;\n",
              "    }\n",
              "</style>\n",
              "<table border=\"1\" class=\"dataframe\">\n",
              "  <thead>\n",
              "    <tr style=\"text-align: right;\">\n",
              "      <th></th>\n",
              "      <th>Date</th>\n",
              "      <th>Open</th>\n",
              "      <th>High</th>\n",
              "      <th>Low</th>\n",
              "      <th>Close</th>\n",
              "      <th>Adj Close</th>\n",
              "      <th>Volume</th>\n",
              "      <th>sentiment</th>\n",
              "    </tr>\n",
              "  </thead>\n",
              "  <tbody>\n",
              "    <tr>\n",
              "      <th>0</th>\n",
              "      <td>2001-01-02</td>\n",
              "      <td>0.265625</td>\n",
              "      <td>0.272321</td>\n",
              "      <td>0.260045</td>\n",
              "      <td>0.265625</td>\n",
              "      <td>0.229537</td>\n",
              "      <td>452312000</td>\n",
              "      <td>0.113725</td>\n",
              "    </tr>\n",
              "    <tr>\n",
              "      <th>1</th>\n",
              "      <td>2001-01-03</td>\n",
              "      <td>0.258929</td>\n",
              "      <td>0.297991</td>\n",
              "      <td>0.257813</td>\n",
              "      <td>0.292411</td>\n",
              "      <td>0.252684</td>\n",
              "      <td>817073600</td>\n",
              "      <td>0.141667</td>\n",
              "    </tr>\n",
              "    <tr>\n",
              "      <th>2</th>\n",
              "      <td>2001-01-04</td>\n",
              "      <td>0.323940</td>\n",
              "      <td>0.330357</td>\n",
              "      <td>0.300223</td>\n",
              "      <td>0.304688</td>\n",
              "      <td>0.263292</td>\n",
              "      <td>739396000</td>\n",
              "      <td>0.136633</td>\n",
              "    </tr>\n",
              "    <tr>\n",
              "      <th>3</th>\n",
              "      <td>2001-01-05</td>\n",
              "      <td>0.302455</td>\n",
              "      <td>0.310268</td>\n",
              "      <td>0.286830</td>\n",
              "      <td>0.292411</td>\n",
              "      <td>0.252684</td>\n",
              "      <td>412356000</td>\n",
              "      <td>0.250480</td>\n",
              "    </tr>\n",
              "    <tr>\n",
              "      <th>4</th>\n",
              "      <td>2001-01-08</td>\n",
              "      <td>0.302455</td>\n",
              "      <td>0.303292</td>\n",
              "      <td>0.284598</td>\n",
              "      <td>0.295759</td>\n",
              "      <td>0.255577</td>\n",
              "      <td>373699200</td>\n",
              "      <td>-0.017149</td>\n",
              "    </tr>\n",
              "    <tr>\n",
              "      <th>...</th>\n",
              "      <td>...</td>\n",
              "      <td>...</td>\n",
              "      <td>...</td>\n",
              "      <td>...</td>\n",
              "      <td>...</td>\n",
              "      <td>...</td>\n",
              "      <td>...</td>\n",
              "      <td>...</td>\n",
              "    </tr>\n",
              "    <tr>\n",
              "      <th>4899</th>\n",
              "      <td>2020-06-24</td>\n",
              "      <td>91.250000</td>\n",
              "      <td>92.197502</td>\n",
              "      <td>89.629997</td>\n",
              "      <td>90.014999</td>\n",
              "      <td>89.852997</td>\n",
              "      <td>192623200</td>\n",
              "      <td>0.097046</td>\n",
              "    </tr>\n",
              "    <tr>\n",
              "      <th>4900</th>\n",
              "      <td>2020-06-25</td>\n",
              "      <td>90.175003</td>\n",
              "      <td>91.250000</td>\n",
              "      <td>89.392502</td>\n",
              "      <td>91.209999</td>\n",
              "      <td>91.045845</td>\n",
              "      <td>137522400</td>\n",
              "      <td>0.018331</td>\n",
              "    </tr>\n",
              "    <tr>\n",
              "      <th>4901</th>\n",
              "      <td>2020-06-26</td>\n",
              "      <td>91.102501</td>\n",
              "      <td>91.330002</td>\n",
              "      <td>88.254997</td>\n",
              "      <td>88.407501</td>\n",
              "      <td>88.248390</td>\n",
              "      <td>205256800</td>\n",
              "      <td>0.084044</td>\n",
              "    </tr>\n",
              "    <tr>\n",
              "      <th>4902</th>\n",
              "      <td>2020-06-29</td>\n",
              "      <td>88.312500</td>\n",
              "      <td>90.542503</td>\n",
              "      <td>87.820000</td>\n",
              "      <td>90.445000</td>\n",
              "      <td>90.282219</td>\n",
              "      <td>130646000</td>\n",
              "      <td>0.049375</td>\n",
              "    </tr>\n",
              "    <tr>\n",
              "      <th>4903</th>\n",
              "      <td>2020-06-30</td>\n",
              "      <td>90.019997</td>\n",
              "      <td>91.495003</td>\n",
              "      <td>90.000000</td>\n",
              "      <td>91.199997</td>\n",
              "      <td>91.035858</td>\n",
              "      <td>140223200</td>\n",
              "      <td>0.068752</td>\n",
              "    </tr>\n",
              "  </tbody>\n",
              "</table>\n",
              "<p>4876 rows × 8 columns</p>\n",
              "</div>"
            ],
            "text/plain": [
              "            Date       Open       High  ...  Adj Close     Volume  sentiment\n",
              "0     2001-01-02   0.265625   0.272321  ...   0.229537  452312000   0.113725\n",
              "1     2001-01-03   0.258929   0.297991  ...   0.252684  817073600   0.141667\n",
              "2     2001-01-04   0.323940   0.330357  ...   0.263292  739396000   0.136633\n",
              "3     2001-01-05   0.302455   0.310268  ...   0.252684  412356000   0.250480\n",
              "4     2001-01-08   0.302455   0.303292  ...   0.255577  373699200  -0.017149\n",
              "...          ...        ...        ...  ...        ...        ...        ...\n",
              "4899  2020-06-24  91.250000  92.197502  ...  89.852997  192623200   0.097046\n",
              "4900  2020-06-25  90.175003  91.250000  ...  91.045845  137522400   0.018331\n",
              "4901  2020-06-26  91.102501  91.330002  ...  88.248390  205256800   0.084044\n",
              "4902  2020-06-29  88.312500  90.542503  ...  90.282219  130646000   0.049375\n",
              "4903  2020-06-30  90.019997  91.495003  ...  91.035858  140223200   0.068752\n",
              "\n",
              "[4876 rows x 8 columns]"
            ]
          },
          "metadata": {
            "tags": []
          },
          "execution_count": 29
        }
      ]
    },
    {
      "cell_type": "code",
      "metadata": {
        "id": "_aCNvS0hR2YI"
      },
      "source": [
        "#Setting 'Date' as index for the dataframe\n",
        "df.set_index('Date', inplace=True)"
      ],
      "execution_count": 30,
      "outputs": []
    },
    {
      "cell_type": "code",
      "metadata": {
        "colab": {
          "base_uri": "https://localhost:8080/",
          "height": 235
        },
        "id": "asvG8htbSdwd",
        "outputId": "91386d3b-e00d-4422-fccf-95b490fb60fc"
      },
      "source": [
        "df.head()"
      ],
      "execution_count": 31,
      "outputs": [
        {
          "output_type": "execute_result",
          "data": {
            "text/html": [
              "<div>\n",
              "<style scoped>\n",
              "    .dataframe tbody tr th:only-of-type {\n",
              "        vertical-align: middle;\n",
              "    }\n",
              "\n",
              "    .dataframe tbody tr th {\n",
              "        vertical-align: top;\n",
              "    }\n",
              "\n",
              "    .dataframe thead th {\n",
              "        text-align: right;\n",
              "    }\n",
              "</style>\n",
              "<table border=\"1\" class=\"dataframe\">\n",
              "  <thead>\n",
              "    <tr style=\"text-align: right;\">\n",
              "      <th></th>\n",
              "      <th>Open</th>\n",
              "      <th>High</th>\n",
              "      <th>Low</th>\n",
              "      <th>Close</th>\n",
              "      <th>Adj Close</th>\n",
              "      <th>Volume</th>\n",
              "      <th>sentiment</th>\n",
              "    </tr>\n",
              "    <tr>\n",
              "      <th>Date</th>\n",
              "      <th></th>\n",
              "      <th></th>\n",
              "      <th></th>\n",
              "      <th></th>\n",
              "      <th></th>\n",
              "      <th></th>\n",
              "      <th></th>\n",
              "    </tr>\n",
              "  </thead>\n",
              "  <tbody>\n",
              "    <tr>\n",
              "      <th>2001-01-02</th>\n",
              "      <td>0.265625</td>\n",
              "      <td>0.272321</td>\n",
              "      <td>0.260045</td>\n",
              "      <td>0.265625</td>\n",
              "      <td>0.229537</td>\n",
              "      <td>452312000</td>\n",
              "      <td>0.113725</td>\n",
              "    </tr>\n",
              "    <tr>\n",
              "      <th>2001-01-03</th>\n",
              "      <td>0.258929</td>\n",
              "      <td>0.297991</td>\n",
              "      <td>0.257813</td>\n",
              "      <td>0.292411</td>\n",
              "      <td>0.252684</td>\n",
              "      <td>817073600</td>\n",
              "      <td>0.141667</td>\n",
              "    </tr>\n",
              "    <tr>\n",
              "      <th>2001-01-04</th>\n",
              "      <td>0.323940</td>\n",
              "      <td>0.330357</td>\n",
              "      <td>0.300223</td>\n",
              "      <td>0.304688</td>\n",
              "      <td>0.263292</td>\n",
              "      <td>739396000</td>\n",
              "      <td>0.136633</td>\n",
              "    </tr>\n",
              "    <tr>\n",
              "      <th>2001-01-05</th>\n",
              "      <td>0.302455</td>\n",
              "      <td>0.310268</td>\n",
              "      <td>0.286830</td>\n",
              "      <td>0.292411</td>\n",
              "      <td>0.252684</td>\n",
              "      <td>412356000</td>\n",
              "      <td>0.250480</td>\n",
              "    </tr>\n",
              "    <tr>\n",
              "      <th>2001-01-08</th>\n",
              "      <td>0.302455</td>\n",
              "      <td>0.303292</td>\n",
              "      <td>0.284598</td>\n",
              "      <td>0.295759</td>\n",
              "      <td>0.255577</td>\n",
              "      <td>373699200</td>\n",
              "      <td>-0.017149</td>\n",
              "    </tr>\n",
              "  </tbody>\n",
              "</table>\n",
              "</div>"
            ],
            "text/plain": [
              "                Open      High       Low  ...  Adj Close     Volume  sentiment\n",
              "Date                                      ...                                 \n",
              "2001-01-02  0.265625  0.272321  0.260045  ...   0.229537  452312000   0.113725\n",
              "2001-01-03  0.258929  0.297991  0.257813  ...   0.252684  817073600   0.141667\n",
              "2001-01-04  0.323940  0.330357  0.300223  ...   0.263292  739396000   0.136633\n",
              "2001-01-05  0.302455  0.310268  0.286830  ...   0.252684  412356000   0.250480\n",
              "2001-01-08  0.302455  0.303292  0.284598  ...   0.255577  373699200  -0.017149\n",
              "\n",
              "[5 rows x 7 columns]"
            ]
          },
          "metadata": {
            "tags": []
          },
          "execution_count": 31
        }
      ]
    },
    {
      "cell_type": "code",
      "metadata": {
        "colab": {
          "base_uri": "https://localhost:8080/",
          "height": 638
        },
        "id": "LY-wVqioSweV",
        "outputId": "483129b3-a5b7-4604-9f45-8c66f7e6dbd3"
      },
      "source": [
        "plt.figure(figsize=(18,10))\n",
        "\n",
        "# plotting close price\n",
        "df['Close'].plot()\n",
        "\n",
        "# setting plot title, x and y labels\n",
        "plt.title(\"Close Price Over the Years\")\n",
        "plt.xlabel('Date')\n",
        "plt.ylabel('Close Price ($)')"
      ],
      "execution_count": 32,
      "outputs": [
        {
          "output_type": "execute_result",
          "data": {
            "text/plain": [
              "Text(0, 0.5, 'Close Price ($)')"
            ]
          },
          "metadata": {
            "tags": []
          },
          "execution_count": 32
        },
        {
          "output_type": "display_data",
          "data": {
            "image/png": "[encoded data removed]",
            "text/plain": [
              "<Figure size 1296x720 with 1 Axes>"
            ]
          },
          "metadata": {
            "tags": [],
            "needs_background": "light"
          }
        }
      ]
    },
    {
      "cell_type": "markdown",
      "metadata": {
        "id": "WmdZBaA7U1wN"
      },
      "source": [
        "##Feature Engineering"
      ]
    },
    {
      "cell_type": "markdown",
      "metadata": {
        "id": "Bi_97-ml_l0-"
      },
      "source": [
        "**Note: I will be predicting the close price of the next day using the attributes of the present day.\n",
        "For example: I will try to predict the close price of '2001-01-03' using the attributes of '2001-01-02'**\n",
        "\n",
        "This is because I'm assuming that the price of a stock fluctuates because of the previous day stock result and events that occurred in the market."
      ]
    },
    {
      "cell_type": "code",
      "metadata": {
        "id": "BHNv-ZrH-EMW"
      },
      "source": [
        "#Preparing the \"target_close\" attribute by shifting the close price of subsequent days\n",
        "df['target_close'] = df.Close.shift(-1)"
      ],
      "execution_count": 33,
      "outputs": []
    },
    {
      "cell_type": "code",
      "metadata": {
        "colab": {
          "base_uri": "https://localhost:8080/",
          "height": 450
        },
        "id": "_4GfqN4m-64I",
        "outputId": "9c55b096-643f-448f-ece3-2f4ba4ceb0e0"
      },
      "source": [
        "df = df.dropna(axis=0, subset=['target_close'])\n",
        "df"
      ],
      "execution_count": 34,
      "outputs": [
        {
          "output_type": "execute_result",
          "data": {
            "text/html": [
              "<div>\n",
              "<style scoped>\n",
              "    .dataframe tbody tr th:only-of-type {\n",
              "        vertical-align: middle;\n",
              "    }\n",
              "\n",
              "    .dataframe tbody tr th {\n",
              "        vertical-align: top;\n",
              "    }\n",
              "\n",
              "    .dataframe thead th {\n",
              "        text-align: right;\n",
              "    }\n",
              "</style>\n",
              "<table border=\"1\" class=\"dataframe\">\n",
              "  <thead>\n",
              "    <tr style=\"text-align: right;\">\n",
              "      <th></th>\n",
              "      <th>Open</th>\n",
              "      <th>High</th>\n",
              "      <th>Low</th>\n",
              "      <th>Close</th>\n",
              "      <th>Adj Close</th>\n",
              "      <th>Volume</th>\n",
              "      <th>sentiment</th>\n",
              "      <th>target_close</th>\n",
              "    </tr>\n",
              "    <tr>\n",
              "      <th>Date</th>\n",
              "      <th></th>\n",
              "      <th></th>\n",
              "      <th></th>\n",
              "      <th></th>\n",
              "      <th></th>\n",
              "      <th></th>\n",
              "      <th></th>\n",
              "      <th></th>\n",
              "    </tr>\n",
              "  </thead>\n",
              "  <tbody>\n",
              "    <tr>\n",
              "      <th>2001-01-02</th>\n",
              "      <td>0.265625</td>\n",
              "      <td>0.272321</td>\n",
              "      <td>0.260045</td>\n",
              "      <td>0.265625</td>\n",
              "      <td>0.229537</td>\n",
              "      <td>452312000</td>\n",
              "      <td>0.113725</td>\n",
              "      <td>0.292411</td>\n",
              "    </tr>\n",
              "    <tr>\n",
              "      <th>2001-01-03</th>\n",
              "      <td>0.258929</td>\n",
              "      <td>0.297991</td>\n",
              "      <td>0.257813</td>\n",
              "      <td>0.292411</td>\n",
              "      <td>0.252684</td>\n",
              "      <td>817073600</td>\n",
              "      <td>0.141667</td>\n",
              "      <td>0.304688</td>\n",
              "    </tr>\n",
              "    <tr>\n",
              "      <th>2001-01-04</th>\n",
              "      <td>0.323940</td>\n",
              "      <td>0.330357</td>\n",
              "      <td>0.300223</td>\n",
              "      <td>0.304688</td>\n",
              "      <td>0.263292</td>\n",
              "      <td>739396000</td>\n",
              "      <td>0.136633</td>\n",
              "      <td>0.292411</td>\n",
              "    </tr>\n",
              "    <tr>\n",
              "      <th>2001-01-05</th>\n",
              "      <td>0.302455</td>\n",
              "      <td>0.310268</td>\n",
              "      <td>0.286830</td>\n",
              "      <td>0.292411</td>\n",
              "      <td>0.252684</td>\n",
              "      <td>412356000</td>\n",
              "      <td>0.250480</td>\n",
              "      <td>0.295759</td>\n",
              "    </tr>\n",
              "    <tr>\n",
              "      <th>2001-01-08</th>\n",
              "      <td>0.302455</td>\n",
              "      <td>0.303292</td>\n",
              "      <td>0.284598</td>\n",
              "      <td>0.295759</td>\n",
              "      <td>0.255577</td>\n",
              "      <td>373699200</td>\n",
              "      <td>-0.017149</td>\n",
              "      <td>0.306920</td>\n",
              "    </tr>\n",
              "    <tr>\n",
              "      <th>...</th>\n",
              "      <td>...</td>\n",
              "      <td>...</td>\n",
              "      <td>...</td>\n",
              "      <td>...</td>\n",
              "      <td>...</td>\n",
              "      <td>...</td>\n",
              "      <td>...</td>\n",
              "      <td>...</td>\n",
              "    </tr>\n",
              "    <tr>\n",
              "      <th>2020-06-23</th>\n",
              "      <td>91.000000</td>\n",
              "      <td>93.095001</td>\n",
              "      <td>90.567497</td>\n",
              "      <td>91.632500</td>\n",
              "      <td>91.467583</td>\n",
              "      <td>212155600</td>\n",
              "      <td>0.073625</td>\n",
              "      <td>90.014999</td>\n",
              "    </tr>\n",
              "    <tr>\n",
              "      <th>2020-06-24</th>\n",
              "      <td>91.250000</td>\n",
              "      <td>92.197502</td>\n",
              "      <td>89.629997</td>\n",
              "      <td>90.014999</td>\n",
              "      <td>89.852997</td>\n",
              "      <td>192623200</td>\n",
              "      <td>0.097046</td>\n",
              "      <td>91.209999</td>\n",
              "    </tr>\n",
              "    <tr>\n",
              "      <th>2020-06-25</th>\n",
              "      <td>90.175003</td>\n",
              "      <td>91.250000</td>\n",
              "      <td>89.392502</td>\n",
              "      <td>91.209999</td>\n",
              "      <td>91.045845</td>\n",
              "      <td>137522400</td>\n",
              "      <td>0.018331</td>\n",
              "      <td>88.407501</td>\n",
              "    </tr>\n",
              "    <tr>\n",
              "      <th>2020-06-26</th>\n",
              "      <td>91.102501</td>\n",
              "      <td>91.330002</td>\n",
              "      <td>88.254997</td>\n",
              "      <td>88.407501</td>\n",
              "      <td>88.248390</td>\n",
              "      <td>205256800</td>\n",
              "      <td>0.084044</td>\n",
              "      <td>90.445000</td>\n",
              "    </tr>\n",
              "    <tr>\n",
              "      <th>2020-06-29</th>\n",
              "      <td>88.312500</td>\n",
              "      <td>90.542503</td>\n",
              "      <td>87.820000</td>\n",
              "      <td>90.445000</td>\n",
              "      <td>90.282219</td>\n",
              "      <td>130646000</td>\n",
              "      <td>0.049375</td>\n",
              "      <td>91.199997</td>\n",
              "    </tr>\n",
              "  </tbody>\n",
              "</table>\n",
              "<p>4875 rows × 8 columns</p>\n",
              "</div>"
            ],
            "text/plain": [
              "                 Open       High        Low  ...     Volume  sentiment  target_close\n",
              "Date                                         ...                                    \n",
              "2001-01-02   0.265625   0.272321   0.260045  ...  452312000   0.113725      0.292411\n",
              "2001-01-03   0.258929   0.297991   0.257813  ...  817073600   0.141667      0.304688\n",
              "2001-01-04   0.323940   0.330357   0.300223  ...  739396000   0.136633      0.292411\n",
              "2001-01-05   0.302455   0.310268   0.286830  ...  412356000   0.250480      0.295759\n",
              "2001-01-08   0.302455   0.303292   0.284598  ...  373699200  -0.017149      0.306920\n",
              "...               ...        ...        ...  ...        ...        ...           ...\n",
              "2020-06-23  91.000000  93.095001  90.567497  ...  212155600   0.073625     90.014999\n",
              "2020-06-24  91.250000  92.197502  89.629997  ...  192623200   0.097046     91.209999\n",
              "2020-06-25  90.175003  91.250000  89.392502  ...  137522400   0.018331     88.407501\n",
              "2020-06-26  91.102501  91.330002  88.254997  ...  205256800   0.084044     90.445000\n",
              "2020-06-29  88.312500  90.542503  87.820000  ...  130646000   0.049375     91.199997\n",
              "\n",
              "[4875 rows x 8 columns]"
            ]
          },
          "metadata": {
            "tags": []
          },
          "execution_count": 34
        }
      ]
    },
    {
      "cell_type": "markdown",
      "metadata": {
        "id": "byIZ3kpcC510"
      },
      "source": [
        "###Scaling the dataframe"
      ]
    },
    {
      "cell_type": "markdown",
      "metadata": {
        "id": "GfiQV719BNPs"
      },
      "source": [
        "Since I am using LSTM to predict stock prices, which is a time series data, it is important to understand that LSTM can be very sensitive to the scale of the data. Right now, if the data is observed, it is present in different scales. Therefore, it is important to re-scale the data so that the range of the dataset is same, for almost all records. "
      ]
    },
    {
      "cell_type": "code",
      "metadata": {
        "colab": {
          "base_uri": "https://localhost:8080/"
        },
        "id": "6nMipnM4AUbs",
        "outputId": "c387eee1-3383-41e8-e917-3976c5b42cf5"
      },
      "source": [
        "scaler = MinMaxScaler()\n",
        "df[df.columns] = scaler.fit_transform(df[df.columns])"
      ],
      "execution_count": 35,
      "outputs": [
        {
          "output_type": "stream",
          "text": [
            "/usr/local/lib/python3.7/dist-packages/ipykernel_launcher.py:2: SettingWithCopyWarning: \n",
            "A value is trying to be set on a copy of a slice from a DataFrame.\n",
            "Try using .loc[row_indexer,col_indexer] = value instead\n",
            "\n",
            "See the caveats in the documentation: https://pandas.pydata.org/pandas-docs/stable/user_guide/indexing.html#returning-a-view-versus-a-copy\n",
            "  \n",
            "/usr/local/lib/python3.7/dist-packages/pandas/core/indexing.py:1734: SettingWithCopyWarning: \n",
            "A value is trying to be set on a copy of a slice from a DataFrame.\n",
            "Try using .loc[row_indexer,col_indexer] = value instead\n",
            "\n",
            "See the caveats in the documentation: https://pandas.pydata.org/pandas-docs/stable/user_guide/indexing.html#returning-a-view-versus-a-copy\n",
            "  isetter(loc, value[:, i].tolist())\n"
          ],
          "name": "stderr"
        }
      ]
    },
    {
      "cell_type": "code",
      "metadata": {
        "colab": {
          "base_uri": "https://localhost:8080/"
        },
        "id": "2ZC8K45_AeKH",
        "outputId": "60056069-8e72-4440-9f5c-d4c8df35ace5"
      },
      "source": [
        "print(df)"
      ],
      "execution_count": 36,
      "outputs": [
        {
          "output_type": "stream",
          "text": [
            "                Open      High       Low  ...    Volume  sentiment  target_close\n",
            "Date                                      ...                                   \n",
            "2001-01-02  0.000370  0.000396  0.000364  ...  0.125682   0.545559      0.000636\n",
            "2001-01-03  0.000296  0.000673  0.000339  ...  0.234876   0.578431      0.000770\n",
            "2001-01-04  0.001011  0.001021  0.000809  ...  0.211623   0.572509      0.000636\n",
            "2001-01-05  0.000774  0.000805  0.000661  ...  0.113721   0.706447      0.000673\n",
            "2001-01-08  0.000774  0.000730  0.000636  ...  0.102149   0.391590      0.000795\n",
            "...              ...       ...       ...  ...       ...        ...           ...\n",
            "2020-06-23  0.997253  1.000000  1.000000  ...  0.053790   0.498382      0.982303\n",
            "2020-06-24  1.000000  0.990335  0.989623  ...  0.047943   0.525936      0.995377\n",
            "2020-06-25  0.988189  0.980131  0.986994  ...  0.031448   0.433330      0.964715\n",
            "2020-06-26  0.998379  0.980993  0.974402  ...  0.051725   0.510640      0.987007\n",
            "2020-06-29  0.967726  0.972512  0.969587  ...  0.029390   0.469853      0.995268\n",
            "\n",
            "[4875 rows x 8 columns]\n"
          ],
          "name": "stdout"
        }
      ]
    },
    {
      "cell_type": "markdown",
      "metadata": {
        "id": "w-giPeQdB-w3"
      },
      "source": [
        "###Feature Extraction"
      ]
    },
    {
      "cell_type": "markdown",
      "metadata": {
        "id": "EE06JGuCCcpx"
      },
      "source": [
        "Selecting features for the training purpose that are sufficiently correlated with the target attribute 'target_close'"
      ]
    },
    {
      "cell_type": "code",
      "metadata": {
        "colab": {
          "base_uri": "https://localhost:8080/",
          "height": 602
        },
        "id": "nJimKeZtYhox",
        "outputId": "9290b1a6-d0e3-4dfa-b94d-2dcd15e2d66c"
      },
      "source": [
        "#Using Pearson Correlation\n",
        "plt.figure(figsize=(12,10))\n",
        "cor = df.corr()\n",
        "sns.heatmap(cor, annot=True, cmap=plt.cm.Reds)\n",
        "plt.show()"
      ],
      "execution_count": 37,
      "outputs": [
        {
          "output_type": "display_data",
          "data": {
            "image/png": "[encoded data removed]",
            "text/plain": [
              "<Figure size 864x720 with 2 Axes>"
            ]
          },
          "metadata": {
            "tags": [],
            "needs_background": "light"
          }
        }
      ]
    },
    {
      "cell_type": "code",
      "metadata": {
        "colab": {
          "base_uri": "https://localhost:8080/"
        },
        "id": "VIGrOjHNYytN",
        "outputId": "f1270092-1b9b-417c-c6c6-c4f76b75e3de"
      },
      "source": [
        "#Correlation with output variable\n",
        "cor_target = abs(cor[\"target_close\"])\n",
        "#Selecting highly correlated features\n",
        "relevant_features = cor_target[cor_target>0.4]\n",
        "relevant_features"
      ],
      "execution_count": 38,
      "outputs": [
        {
          "output_type": "execute_result",
          "data": {
            "text/plain": [
              "Open            0.999508\n",
              "High            0.999580\n",
              "Low             0.999581\n",
              "Close           0.999630\n",
              "Adj Close       0.998724\n",
              "Volume          0.473886\n",
              "target_close    1.000000\n",
              "Name: target_close, dtype: float64"
            ]
          },
          "metadata": {
            "tags": []
          },
          "execution_count": 38
        }
      ]
    },
    {
      "cell_type": "markdown",
      "metadata": {
        "id": "Dl77FtZZCrqU"
      },
      "source": [
        "The above attributes are strongly correlated with 'target_close'. But we have to also check if those attributes are correlated to each other or not. If yes then we have to eliminate some of them and select only the best features."
      ]
    },
    {
      "cell_type": "code",
      "metadata": {
        "colab": {
          "base_uri": "https://localhost:8080/"
        },
        "id": "vyp0Qk0HZJQq",
        "outputId": "a2eaae21-ed47-4b77-f548-170687c55958"
      },
      "source": [
        "print(df[[\"Open\",\"High\"]].corr())\n",
        "print(df[[\"Open\",\"Low\"]].corr())\n",
        "print(df[[\"Open\",\"Adj Close\"]].corr())\n",
        "print(df[[\"Open\",\"Volume\"]].corr())\n",
        "print(df[[\"Open\",\"Close\"]].corr())\n",
        "print(\"-------------\")\n",
        "print(df[[\"High\",\"Low\"]].corr())\n",
        "print(df[[\"High\",\"Adj Close\"]].corr())\n",
        "print(df[[\"High\",\"Volume\"]].corr())\n",
        "print(df[[\"High\",\"Close\"]].corr())\n",
        "print(\"-------------\")\n",
        "print(df[[\"Low\",\"Adj Close\"]].corr())\n",
        "print(df[[\"Low\",\"Volume\"]].corr())\n",
        "print(df[[\"Low\",\"Close\"]].corr())\n",
        "print(\"-------------\")\n",
        "print(df[[\"Volume\",\"Close\"]].corr())\n"
      ],
      "execution_count": 39,
      "outputs": [
        {
          "output_type": "stream",
          "text": [
            "          Open      High\n",
            "Open  1.000000  0.999907\n",
            "High  0.999907  1.000000\n",
            "          Open       Low\n",
            "Open  1.000000  0.999902\n",
            "Low   0.999902  1.000000\n",
            "               Open  Adj Close\n",
            "Open       1.000000   0.998824\n",
            "Adj Close  0.998824   1.000000\n",
            "            Open    Volume\n",
            "Open    1.000000 -0.473891\n",
            "Volume -0.473891  1.000000\n",
            "           Open     Close\n",
            "Open   1.000000  0.999816\n",
            "Close  0.999816  1.000000\n",
            "-------------\n",
            "          High       Low\n",
            "High  1.000000  0.999846\n",
            "Low   0.999846  1.000000\n",
            "               High  Adj Close\n",
            "High       1.000000   0.998991\n",
            "Adj Close  0.998991   1.000000\n",
            "            High    Volume\n",
            "High    1.000000 -0.472208\n",
            "Volume -0.472208  1.000000\n",
            "           High     Close\n",
            "High   1.000000  0.999897\n",
            "Close  0.999897  1.000000\n",
            "-------------\n",
            "                Low  Adj Close\n",
            "Low        1.000000   0.998895\n",
            "Adj Close  0.998895   1.000000\n",
            "             Low    Volume\n",
            "Low     1.000000 -0.476037\n",
            "Volume -0.476037  1.000000\n",
            "            Low     Close\n",
            "Low    1.000000  0.999902\n",
            "Close  0.999902  1.000000\n",
            "-------------\n",
            "          Volume     Close\n",
            "Volume  1.000000 -0.474076\n",
            "Close  -0.474076  1.000000\n"
          ],
          "name": "stdout"
        }
      ]
    },
    {
      "cell_type": "markdown",
      "metadata": {
        "id": "sRMkcGMeD10P"
      },
      "source": [
        "The attributes 'Open', 'Close', 'Low', 'High', 'Adj Close' are strongly correlated to each other. Therefore, I will consider only 'Close' and 'Volume'"
      ]
    },
    {
      "cell_type": "code",
      "metadata": {
        "id": "wy-23mK0c674"
      },
      "source": [
        "#Preparing dataframes for modelling\n",
        "X = df[['Close','Volume']]\n",
        "Y = df['target_close']"
      ],
      "execution_count": 40,
      "outputs": []
    },
    {
      "cell_type": "code",
      "metadata": {
        "colab": {
          "base_uri": "https://localhost:8080/"
        },
        "id": "iqNgibjCCRKI",
        "outputId": "1037c91b-8284-4775-daba-5d22b6b51d07"
      },
      "source": [
        "print(X)\n",
        "Y"
      ],
      "execution_count": 41,
      "outputs": [
        {
          "output_type": "stream",
          "text": [
            "               Close    Volume\n",
            "Date                          \n",
            "2001-01-02  0.000343  0.125682\n",
            "2001-01-03  0.000636  0.234876\n",
            "2001-01-04  0.000770  0.211623\n",
            "2001-01-05  0.000636  0.113721\n",
            "2001-01-08  0.000673  0.102149\n",
            "...              ...       ...\n",
            "2020-06-23  1.000000  0.053790\n",
            "2020-06-24  0.982303  0.047943\n",
            "2020-06-25  0.995377  0.031448\n",
            "2020-06-26  0.964715  0.051725\n",
            "2020-06-29  0.987007  0.029390\n",
            "\n",
            "[4875 rows x 2 columns]\n"
          ],
          "name": "stdout"
        },
        {
          "output_type": "execute_result",
          "data": {
            "text/plain": [
              "Date\n",
              "2001-01-02    0.000636\n",
              "2001-01-03    0.000770\n",
              "2001-01-04    0.000636\n",
              "2001-01-05    0.000673\n",
              "2001-01-08    0.000795\n",
              "                ...   \n",
              "2020-06-23    0.982303\n",
              "2020-06-24    0.995377\n",
              "2020-06-25    0.964715\n",
              "2020-06-26    0.987007\n",
              "2020-06-29    0.995268\n",
              "Name: target_close, Length: 4875, dtype: float64"
            ]
          },
          "metadata": {
            "tags": []
          },
          "execution_count": 41
        }
      ]
    },
    {
      "cell_type": "markdown",
      "metadata": {
        "id": "f_Xdz8kkE0-n"
      },
      "source": [
        "#Preparing Data for Training and Testing"
      ]
    },
    {
      "cell_type": "markdown",
      "metadata": {
        "id": "lGqs_vhyEzpB"
      },
      "source": [
        "Normally for any other dataset train_test_split from sklearn package is used, but for time series data like stock prices which is dependent on date, the dataset is divided into train and test dataset in a different way as shown below. In timeseries data, an observation for a particular date is always dependent on the previous date records."
      ]
    },
    {
      "cell_type": "code",
      "metadata": {
        "id": "b2hsKbSgDg8n"
      },
      "source": [
        "#80% data for training and 20% for testing \n",
        "split = int(len(X-1)*0.8)"
      ],
      "execution_count": 42,
      "outputs": []
    },
    {
      "cell_type": "code",
      "metadata": {
        "id": "K5C_mN2_GIhj"
      },
      "source": [
        "x_train = X.iloc[:split,:]\n",
        "y_train = Y.iloc[:split]\n",
        "x_test = X.iloc[split+1:,:]\n",
        "y_test = Y.iloc[split+1:]"
      ],
      "execution_count": 43,
      "outputs": []
    },
    {
      "cell_type": "code",
      "metadata": {
        "colab": {
          "base_uri": "https://localhost:8080/"
        },
        "id": "6BAtm40cGexb",
        "outputId": "ad1966f7-a584-4c80-b1f9-81a4336ff8b8"
      },
      "source": [
        "print(x_train)\n",
        "print(y_train)\n",
        "print(x_test)\n",
        "print(y_test)"
      ],
      "execution_count": 44,
      "outputs": [
        {
          "output_type": "stream",
          "text": [
            "               Close    Volume\n",
            "Date                          \n",
            "2001-01-02  0.000343  0.125682\n",
            "2001-01-03  0.000636  0.234876\n",
            "2001-01-04  0.000770  0.211623\n",
            "2001-01-05  0.000636  0.113721\n",
            "2001-01-08  0.000673  0.102149\n",
            "...              ...       ...\n",
            "2016-08-08  0.293859  0.023852\n",
            "2016-08-09  0.295063  0.021790\n",
            "2016-08-10  0.292847  0.019028\n",
            "2016-08-11  0.292656  0.023191\n",
            "2016-08-12  0.293340  0.012624\n",
            "\n",
            "[3900 rows x 2 columns]\n",
            "Date\n",
            "2001-01-02    0.000636\n",
            "2001-01-03    0.000770\n",
            "2001-01-04    0.000636\n",
            "2001-01-05    0.000673\n",
            "2001-01-08    0.000795\n",
            "                ...   \n",
            "2016-08-08    0.295063\n",
            "2016-08-09    0.292847\n",
            "2016-08-10    0.292656\n",
            "2016-08-11    0.293340\n",
            "2016-08-12    0.296895\n",
            "Name: target_close, Length: 3900, dtype: float64\n",
            "               Close    Volume\n",
            "Date                          \n",
            "2016-08-16  0.296622  0.030746\n",
            "2016-08-17  0.296184  0.020642\n",
            "2016-08-18  0.295801  0.016605\n",
            "2016-08-19  0.296567  0.020656\n",
            "2016-08-22  0.294242  0.021198\n",
            "...              ...       ...\n",
            "2020-06-23  1.000000  0.053790\n",
            "2020-06-24  0.982303  0.047943\n",
            "2020-06-25  0.995377  0.031448\n",
            "2020-06-26  0.964715  0.051725\n",
            "2020-06-29  0.987007  0.029390\n",
            "\n",
            "[974 rows x 2 columns]\n",
            "Date\n",
            "2016-08-16    0.296184\n",
            "2016-08-17    0.295801\n",
            "2016-08-18    0.296567\n",
            "2016-08-19    0.294242\n",
            "2016-08-22    0.295172\n",
            "                ...   \n",
            "2020-06-23    0.982303\n",
            "2020-06-24    0.995377\n",
            "2020-06-25    0.964715\n",
            "2020-06-26    0.987007\n",
            "2020-06-29    0.995268\n",
            "Name: target_close, Length: 974, dtype: float64\n"
          ],
          "name": "stdout"
        }
      ]
    },
    {
      "cell_type": "code",
      "metadata": {
        "colab": {
          "base_uri": "https://localhost:8080/"
        },
        "id": "YoL1TEJhJ0i_",
        "outputId": "4d4d4f37-03fe-43fa-c1e8-806a6e9da2fa"
      },
      "source": [
        "x_train.shape"
      ],
      "execution_count": 45,
      "outputs": [
        {
          "output_type": "execute_result",
          "data": {
            "text/plain": [
              "(3900, 2)"
            ]
          },
          "metadata": {
            "tags": []
          },
          "execution_count": 45
        }
      ]
    },
    {
      "cell_type": "code",
      "metadata": {
        "colab": {
          "base_uri": "https://localhost:8080/"
        },
        "id": "08FrUDf5K81b",
        "outputId": "43d70341-8eba-4024-c4e0-f24ca0ac663c"
      },
      "source": [
        "# reshaping the feature dataset for feeding into the model\n",
        "x_train = x_train.to_numpy().reshape(x_train.shape + (1,)) \n",
        "x_test = x_test.to_numpy().reshape(x_test.shape + (1,))\n",
        "\n",
        "# printing the re-shaped feature dataset\n",
        "print('Shape of Training set X:', x_train.shape)\n",
        "print('Shape of Test set X:', x_test.shape)"
      ],
      "execution_count": 46,
      "outputs": [
        {
          "output_type": "stream",
          "text": [
            "Shape of Training set X: (3900, 2, 1)\n",
            "Shape of Test set X: (974, 2, 1)\n"
          ],
          "name": "stdout"
        }
      ]
    },
    {
      "cell_type": "markdown",
      "metadata": {
        "id": "LCa0yJzsGOeA"
      },
      "source": [
        "#Training and Testing"
      ]
    },
    {
      "cell_type": "code",
      "metadata": {
        "colab": {
          "base_uri": "https://localhost:8080/"
        },
        "id": "7nWJsc2tHkAG",
        "outputId": "3afafdd3-3723-4f9e-a7b1-a39f82f93052"
      },
      "source": [
        "# setting the seed to achieve consistent and less random predictions at each execution\n",
        "np.random.seed(2000)\n",
        "\n",
        "# setting the model architecture\n",
        "model=Sequential()\n",
        "model.add(LSTM(100,return_sequences=True,activation='tanh',input_shape=(2,1)))\n",
        "model.add(Dropout(0.1))\n",
        "model.add(LSTM(100,return_sequences=True,activation='tanh'))\n",
        "model.add(Dropout(0.1))\n",
        "model.add(LSTM(100,activation='tanh'))\n",
        "model.add(Dropout(0.1))\n",
        "model.add(Dense(1))\n",
        "\n",
        "# printing the model summary\n",
        "model.summary()"
      ],
      "execution_count": 47,
      "outputs": [
        {
          "output_type": "stream",
          "text": [
            "Model: \"sequential\"\n",
            "_________________________________________________________________\n",
            "Layer (type)                 Output Shape              Param #   \n",
            "=================================================================\n",
            "lstm (LSTM)                  (None, 2, 100)            40800     \n",
            "_________________________________________________________________\n",
            "dropout (Dropout)            (None, 2, 100)            0         \n",
            "_________________________________________________________________\n",
            "lstm_1 (LSTM)                (None, 2, 100)            80400     \n",
            "_________________________________________________________________\n",
            "dropout_1 (Dropout)          (None, 2, 100)            0         \n",
            "_________________________________________________________________\n",
            "lstm_2 (LSTM)                (None, 100)               80400     \n",
            "_________________________________________________________________\n",
            "dropout_2 (Dropout)          (None, 100)               0         \n",
            "_________________________________________________________________\n",
            "dense (Dense)                (None, 1)                 101       \n",
            "=================================================================\n",
            "Total params: 201,701\n",
            "Trainable params: 201,701\n",
            "Non-trainable params: 0\n",
            "_________________________________________________________________\n"
          ],
          "name": "stdout"
        }
      ]
    },
    {
      "cell_type": "code",
      "metadata": {
        "colab": {
          "base_uri": "https://localhost:8080/"
        },
        "id": "uTOYa6v1KFhO",
        "outputId": "1b1a9483-fda9-4601-8bf6-c8744839ad37"
      },
      "source": [
        "# compiling the model\n",
        "model.compile(loss='mse' , optimizer='adam')\n",
        "\n",
        "# fitting the model using the training dataset\n",
        "model.fit(x_train, y_train, validation_split=0.2, epochs=10, batch_size=8, verbose=1)"
      ],
      "execution_count": 48,
      "outputs": [
        {
          "output_type": "stream",
          "text": [
            "Epoch 1/10\n",
            "390/390 [==============================] - 25s 12ms/step - loss: 0.0023 - val_loss: 2.4047e-04\n",
            "Epoch 2/10\n",
            "390/390 [==============================] - 3s 7ms/step - loss: 8.6336e-05 - val_loss: 1.0075e-04\n",
            "Epoch 3/10\n",
            "390/390 [==============================] - 3s 7ms/step - loss: 5.5307e-05 - val_loss: 5.9285e-05\n",
            "Epoch 4/10\n",
            "390/390 [==============================] - 3s 7ms/step - loss: 5.3390e-05 - val_loss: 9.4029e-05\n",
            "Epoch 5/10\n",
            "390/390 [==============================] - 3s 7ms/step - loss: 3.5182e-05 - val_loss: 1.8182e-04\n",
            "Epoch 6/10\n",
            "390/390 [==============================] - 3s 8ms/step - loss: 4.2840e-05 - val_loss: 2.7827e-05\n",
            "Epoch 7/10\n",
            "390/390 [==============================] - 3s 7ms/step - loss: 3.7730e-05 - val_loss: 4.0027e-05\n",
            "Epoch 8/10\n",
            "390/390 [==============================] - 3s 7ms/step - loss: 3.9471e-05 - val_loss: 1.4109e-04\n",
            "Epoch 9/10\n",
            "390/390 [==============================] - 3s 7ms/step - loss: 4.6997e-05 - val_loss: 1.3669e-04\n",
            "Epoch 10/10\n",
            "390/390 [==============================] - 3s 7ms/step - loss: 3.5959e-05 - val_loss: 3.1450e-05\n"
          ],
          "name": "stdout"
        },
        {
          "output_type": "execute_result",
          "data": {
            "text/plain": [
              "<keras.callbacks.History at 0x7fefd4d333d0>"
            ]
          },
          "metadata": {
            "tags": []
          },
          "execution_count": 48
        }
      ]
    },
    {
      "cell_type": "code",
      "metadata": {
        "id": "gyxAYqkXKdzc"
      },
      "source": [
        "predictions = model.predict(x_test)\n",
        "\n",
        "#converting 2d array to 1d array\n",
        "predictions = predictions.flatten()\n"
      ],
      "execution_count": 49,
      "outputs": []
    },
    {
      "cell_type": "code",
      "metadata": {
        "colab": {
          "base_uri": "https://localhost:8080/"
        },
        "id": "9GuDKURpM7-L",
        "outputId": "3a6eff98-05d1-4823-eb20-84fce5abd47d"
      },
      "source": [
        "# printing the predictions\n",
        "y_test = y_test.to_numpy()\n",
        "print('Predictions:')\n",
        "print(predictions[0:5])\n",
        "print('------------')\n",
        "print(y_test[0:5])"
      ],
      "execution_count": 50,
      "outputs": [
        {
          "output_type": "stream",
          "text": [
            "Predictions:\n",
            "[0.30040014 0.29979336 0.29934114 0.30017757 0.2978552 ]\n",
            "------------\n",
            "[0.29618428 0.29580134 0.29656722 0.29424224 0.29517222]\n"
          ],
          "name": "stdout"
        }
      ]
    },
    {
      "cell_type": "code",
      "metadata": {
        "colab": {
          "base_uri": "https://localhost:8080/"
        },
        "id": "HVNz8oS0Pmyq",
        "outputId": "e05b35c8-8709-4abe-c255-36c09b56c82d"
      },
      "source": [
        "# calculating the training mean-squared-error\n",
        "train_loss = model.evaluate(x_train, y_train, batch_size = 1)\n",
        "\n",
        "# calculating the test mean-squared-error\n",
        "test_loss = model.evaluate(x_test, y_test, batch_size = 1)\n",
        "\n",
        "# printing the training and the test mean-squared-errors\n",
        "print('Train Loss =', round(train_loss,4))\n",
        "print('Test Loss =', round(test_loss,4))"
      ],
      "execution_count": 51,
      "outputs": [
        {
          "output_type": "stream",
          "text": [
            "3900/3900 [==============================] - 10s 2ms/step - loss: 1.2699e-05\n",
            "974/974 [==============================] - 3s 2ms/step - loss: 8.6815e-04\n",
            "Train Loss = 0.0\n",
            "Test Loss = 0.0009\n"
          ],
          "name": "stdout"
        }
      ]
    },
    {
      "cell_type": "code",
      "metadata": {
        "colab": {
          "base_uri": "https://localhost:8080/"
        },
        "id": "ntfDMVIIQj9R",
        "outputId": "cf211dbf-5572-488f-9c51-b619160fdf9f"
      },
      "source": [
        "# calculating root mean squared error\n",
        "root_mean_square_error = np.sqrt(np.mean(np.power((y_test - predictions),2)))\n",
        "print('Root Mean Square Error =', round(root_mean_square_error,4))"
      ],
      "execution_count": 52,
      "outputs": [
        {
          "output_type": "stream",
          "text": [
            "Root Mean Square Error = 0.0295\n"
          ],
          "name": "stdout"
        }
      ]
    },
    {
      "cell_type": "code",
      "metadata": {
        "colab": {
          "base_uri": "https://localhost:8080/"
        },
        "id": "G0GYJmcmQv91",
        "outputId": "0dcdc56c-cf0b-4f3d-e6b4-a7d620c7a4e3"
      },
      "source": [
        "# calculating root mean squared error using sklearn.metrics package\n",
        "\n",
        "rmse = metrics.mean_squared_error(y_test, predictions)\n",
        "print('Root Mean Square Error (sklearn.metrics) =', round(np.sqrt(rmse),4))"
      ],
      "execution_count": 53,
      "outputs": [
        {
          "output_type": "stream",
          "text": [
            "Root Mean Square Error (sklearn.metrics) = 0.0295\n"
          ],
          "name": "stdout"
        }
      ]
    },
    {
      "cell_type": "code",
      "metadata": {
        "colab": {
          "base_uri": "https://localhost:8080/",
          "height": 625
        },
        "id": "zjWThGbRQ2PF",
        "outputId": "462d00ee-2a0d-4063-f7bf-b0158c52958a"
      },
      "source": [
        "# plotting\n",
        "plt.figure(figsize=(16,10))\n",
        "\n",
        "# plt.plot([row[0] for row in y_train], label=\"Training Close Price\")\n",
        "plt.plot(predictions, label=\"Predicted Close Price\")\n",
        "plt.plot(y_test, label=\"Testing Close Price\")\n",
        "plt.legend(loc='upper center', bbox_to_anchor=(0.5, -0.05), fancybox=True, shadow=True, ncol=2)\n",
        "plt.show()"
      ],
      "execution_count": 54,
      "outputs": [
        {
          "output_type": "display_data",
          "data": {
            "image/png": "[encoded data removed]",
            "text/plain": [
              "<Figure size 1152x720 with 1 Axes>"
            ]
          },
          "metadata": {
            "tags": [],
            "needs_background": "light"
          }
        }
      ]
    },
    {
      "cell_type": "markdown",
      "metadata": {
        "id": "i3tQNS8sHOoi"
      },
      "source": [
        "#References"
      ]
    },
    {
      "cell_type": "markdown",
      "metadata": {
        "id": "0TXZq-9uHRfb"
      },
      "source": [
        "[1] https://github.com/monica110394/Stock-Market-Prediction/blob/main/stock_market_prediction.ipynb\n",
        "\n",
        "[2] https://towardsdatascience.com/my-absolute-go-to-for-sentiment-analysis-textblob-3ac3a11d524\n",
        "\n",
        "[3] https://towardsdatascience.com/feature-selection-with-pandas-e3690ad8504b\n"
      ]
    }
  ]
}